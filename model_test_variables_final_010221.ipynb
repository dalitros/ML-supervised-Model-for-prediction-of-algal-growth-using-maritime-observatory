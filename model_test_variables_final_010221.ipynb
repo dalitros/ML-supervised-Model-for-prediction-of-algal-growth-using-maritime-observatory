{
 "cells": [
  {
   "cell_type": "markdown",
   "metadata": {},
   "source": [
    "# Models selction and prediction"
   ]
  },
  {
   "cell_type": "code",
   "execution_count": 1,
   "metadata": {},
   "outputs": [],
   "source": [
    "import numpy as np\n",
    "import pandas as pd\n",
    "import seaborn as sns"
   ]
  },
  {
   "cell_type": "code",
   "execution_count": 2,
   "metadata": {},
   "outputs": [],
   "source": [
    "\n",
    "path= \"C:/Users/dalit/DataScience/project/final_project/final_df_drop.csv\""
   ]
  },
  {
   "cell_type": "code",
   "execution_count": 3,
   "metadata": {},
   "outputs": [
    {
     "data": {
      "text/html": [
       "<div>\n",
       "<style scoped>\n",
       "    .dataframe tbody tr th:only-of-type {\n",
       "        vertical-align: middle;\n",
       "    }\n",
       "\n",
       "    .dataframe tbody tr th {\n",
       "        vertical-align: top;\n",
       "    }\n",
       "\n",
       "    .dataframe thead th {\n",
       "        text-align: right;\n",
       "    }\n",
       "</style>\n",
       "<table border=\"1\" class=\"dataframe\">\n",
       "  <thead>\n",
       "    <tr style=\"text-align: right;\">\n",
       "      <th></th>\n",
       "      <th>Unnamed: 0</th>\n",
       "      <th>Unnamed: 0.1</th>\n",
       "      <th>chl_pred_y_x</th>\n",
       "      <th>avg_g</th>\n",
       "      <th>std_g</th>\n",
       "      <th>am/pm</th>\n",
       "      <th>Sun_Declin_deg</th>\n",
       "      <th>Sunlight_Duration_minutes</th>\n",
       "      <th>True_Solar_Time _min</th>\n",
       "      <th>chl_change</th>\n",
       "      <th>...</th>\n",
       "      <th>significant_height_y</th>\n",
       "      <th>mean_period_y</th>\n",
       "      <th>T_round1_y</th>\n",
       "      <th>d_stamp1</th>\n",
       "      <th>hour</th>\n",
       "      <th>minute</th>\n",
       "      <th>T_round2</th>\n",
       "      <th>Sunrise_Time_LST</th>\n",
       "      <th>Sunset_Time_LST</th>\n",
       "      <th>T_round2_hour</th>\n",
       "    </tr>\n",
       "  </thead>\n",
       "  <tbody>\n",
       "    <tr>\n",
       "      <th>0</th>\n",
       "      <td>0</td>\n",
       "      <td>0</td>\n",
       "      <td>0.036</td>\n",
       "      <td>24.538571</td>\n",
       "      <td>3.926277</td>\n",
       "      <td>0.0</td>\n",
       "      <td>19.34171</td>\n",
       "      <td>834.248455</td>\n",
       "      <td>733.260372</td>\n",
       "      <td>-0.035</td>\n",
       "      <td>...</td>\n",
       "      <td>0.350</td>\n",
       "      <td>3.569</td>\n",
       "      <td>00:00</td>\n",
       "      <td>26/07/2017</td>\n",
       "      <td>0</td>\n",
       "      <td>0</td>\n",
       "      <td>12:00</td>\n",
       "      <td>04:49:37</td>\n",
       "      <td>18:43:52</td>\n",
       "      <td>12</td>\n",
       "    </tr>\n",
       "    <tr>\n",
       "      <th>1</th>\n",
       "      <td>1</td>\n",
       "      <td>1</td>\n",
       "      <td>0.083</td>\n",
       "      <td>24.542857</td>\n",
       "      <td>3.972936</td>\n",
       "      <td>0.0</td>\n",
       "      <td>19.34171</td>\n",
       "      <td>834.248455</td>\n",
       "      <td>733.260372</td>\n",
       "      <td>-0.012</td>\n",
       "      <td>...</td>\n",
       "      <td>0.368</td>\n",
       "      <td>3.535</td>\n",
       "      <td>00:30</td>\n",
       "      <td>26/07/2017</td>\n",
       "      <td>0</td>\n",
       "      <td>30</td>\n",
       "      <td>12:30</td>\n",
       "      <td>04:49:37</td>\n",
       "      <td>18:43:52</td>\n",
       "      <td>12</td>\n",
       "    </tr>\n",
       "    <tr>\n",
       "      <th>2</th>\n",
       "      <td>2</td>\n",
       "      <td>2</td>\n",
       "      <td>0.060</td>\n",
       "      <td>24.651429</td>\n",
       "      <td>3.982476</td>\n",
       "      <td>1.0</td>\n",
       "      <td>19.34171</td>\n",
       "      <td>834.248455</td>\n",
       "      <td>733.260372</td>\n",
       "      <td>-0.023</td>\n",
       "      <td>...</td>\n",
       "      <td>0.383</td>\n",
       "      <td>3.632</td>\n",
       "      <td>01:00</td>\n",
       "      <td>26/07/2017</td>\n",
       "      <td>1</td>\n",
       "      <td>0</td>\n",
       "      <td>01:00</td>\n",
       "      <td>04:49:37</td>\n",
       "      <td>18:43:52</td>\n",
       "      <td>1</td>\n",
       "    </tr>\n",
       "    <tr>\n",
       "      <th>3</th>\n",
       "      <td>3</td>\n",
       "      <td>3</td>\n",
       "      <td>0.083</td>\n",
       "      <td>24.647143</td>\n",
       "      <td>4.040803</td>\n",
       "      <td>1.0</td>\n",
       "      <td>19.34171</td>\n",
       "      <td>834.248455</td>\n",
       "      <td>733.260372</td>\n",
       "      <td>-0.012</td>\n",
       "      <td>...</td>\n",
       "      <td>0.373</td>\n",
       "      <td>3.516</td>\n",
       "      <td>01:30</td>\n",
       "      <td>26/07/2017</td>\n",
       "      <td>1</td>\n",
       "      <td>30</td>\n",
       "      <td>01:30</td>\n",
       "      <td>04:49:37</td>\n",
       "      <td>18:43:52</td>\n",
       "      <td>1</td>\n",
       "    </tr>\n",
       "    <tr>\n",
       "      <th>4</th>\n",
       "      <td>4</td>\n",
       "      <td>4</td>\n",
       "      <td>0.048</td>\n",
       "      <td>24.677143</td>\n",
       "      <td>4.041587</td>\n",
       "      <td>1.0</td>\n",
       "      <td>19.34171</td>\n",
       "      <td>834.248455</td>\n",
       "      <td>733.260372</td>\n",
       "      <td>-0.059</td>\n",
       "      <td>...</td>\n",
       "      <td>0.344</td>\n",
       "      <td>3.570</td>\n",
       "      <td>02:00</td>\n",
       "      <td>26/07/2017</td>\n",
       "      <td>2</td>\n",
       "      <td>0</td>\n",
       "      <td>02:00</td>\n",
       "      <td>04:49:37</td>\n",
       "      <td>18:43:52</td>\n",
       "      <td>2</td>\n",
       "    </tr>\n",
       "  </tbody>\n",
       "</table>\n",
       "<p>5 rows × 139 columns</p>\n",
       "</div>"
      ],
      "text/plain": [
       "   Unnamed: 0  Unnamed: 0.1  chl_pred_y_x      avg_g     std_g  am/pm  \\\n",
       "0           0             0         0.036  24.538571  3.926277    0.0   \n",
       "1           1             1         0.083  24.542857  3.972936    0.0   \n",
       "2           2             2         0.060  24.651429  3.982476    1.0   \n",
       "3           3             3         0.083  24.647143  4.040803    1.0   \n",
       "4           4             4         0.048  24.677143  4.041587    1.0   \n",
       "\n",
       "   Sun_Declin_deg  Sunlight_Duration_minutes  True_Solar_Time _min  \\\n",
       "0        19.34171                 834.248455            733.260372   \n",
       "1        19.34171                 834.248455            733.260372   \n",
       "2        19.34171                 834.248455            733.260372   \n",
       "3        19.34171                 834.248455            733.260372   \n",
       "4        19.34171                 834.248455            733.260372   \n",
       "\n",
       "   chl_change  ...  significant_height_y  mean_period_y  T_round1_y  \\\n",
       "0      -0.035  ...                 0.350          3.569       00:00   \n",
       "1      -0.012  ...                 0.368          3.535       00:30   \n",
       "2      -0.023  ...                 0.383          3.632       01:00   \n",
       "3      -0.012  ...                 0.373          3.516       01:30   \n",
       "4      -0.059  ...                 0.344          3.570       02:00   \n",
       "\n",
       "     d_stamp1  hour  minute  T_round2  Sunrise_Time_LST  Sunset_Time_LST  \\\n",
       "0  26/07/2017     0       0     12:00          04:49:37         18:43:52   \n",
       "1  26/07/2017     0      30     12:30          04:49:37         18:43:52   \n",
       "2  26/07/2017     1       0     01:00          04:49:37         18:43:52   \n",
       "3  26/07/2017     1      30     01:30          04:49:37         18:43:52   \n",
       "4  26/07/2017     2       0     02:00          04:49:37         18:43:52   \n",
       "\n",
       "   T_round2_hour  \n",
       "0             12  \n",
       "1             12  \n",
       "2              1  \n",
       "3              1  \n",
       "4              2  \n",
       "\n",
       "[5 rows x 139 columns]"
      ]
     },
     "execution_count": 3,
     "metadata": {},
     "output_type": "execute_result"
    }
   ],
   "source": [
    "### user pandas to read the csv (read_csv())\n",
    "### show the top rows\n",
    "final_df_drop = pd.read_csv(path)\n",
    "final_df_drop.head()"
   ]
  },
  {
   "cell_type": "code",
   "execution_count": 4,
   "metadata": {},
   "outputs": [],
   "source": [
    "\n",
    "path= \"C:/Users/dalit/DataScience/project/final_project/new_feat.csv\""
   ]
  },
  {
   "cell_type": "code",
   "execution_count": 5,
   "metadata": {},
   "outputs": [
    {
     "data": {
      "text/html": [
       "<div>\n",
       "<style scoped>\n",
       "    .dataframe tbody tr th:only-of-type {\n",
       "        vertical-align: middle;\n",
       "    }\n",
       "\n",
       "    .dataframe tbody tr th {\n",
       "        vertical-align: top;\n",
       "    }\n",
       "\n",
       "    .dataframe thead th {\n",
       "        text-align: right;\n",
       "    }\n",
       "</style>\n",
       "<table border=\"1\" class=\"dataframe\">\n",
       "  <thead>\n",
       "    <tr style=\"text-align: right;\">\n",
       "      <th></th>\n",
       "      <th>Unnamed: 0</th>\n",
       "      <th>am/pm</th>\n",
       "      <th>Sunlight_Duration_minutes</th>\n",
       "      <th>True_Solar_Time _min</th>\n",
       "      <th>chl_change</th>\n",
       "      <th>chl_mov_avg</th>\n",
       "      <th>seasonality2</th>\n",
       "      <th>trend2</th>\n",
       "      <th>seasonality12</th>\n",
       "      <th>trend12</th>\n",
       "      <th>...</th>\n",
       "      <th>trend48</th>\n",
       "      <th>g_77</th>\n",
       "      <th>wind_direction</th>\n",
       "      <th>external_humidity_AvgVal</th>\n",
       "      <th>Temperature_DegC_y</th>\n",
       "      <th>chlorophyll_concentration_y</th>\n",
       "      <th>e_AvgVolt</th>\n",
       "      <th>e_AvgLinearAdjVal</th>\n",
       "      <th>minute</th>\n",
       "      <th>T_round2_hour</th>\n",
       "    </tr>\n",
       "  </thead>\n",
       "  <tbody>\n",
       "    <tr>\n",
       "      <th>0</th>\n",
       "      <td>0</td>\n",
       "      <td>0.0</td>\n",
       "      <td>834.248455</td>\n",
       "      <td>733.260372</td>\n",
       "      <td>-0.035</td>\n",
       "      <td>0.052479</td>\n",
       "      <td>0.000806</td>\n",
       "      <td>0.086261</td>\n",
       "      <td>0.003868</td>\n",
       "      <td>0.066082</td>\n",
       "      <td>...</td>\n",
       "      <td>0.050884</td>\n",
       "      <td>7.0</td>\n",
       "      <td>158.0</td>\n",
       "      <td>2396.0</td>\n",
       "      <td>29.656</td>\n",
       "      <td>0.071</td>\n",
       "      <td>0.851</td>\n",
       "      <td>85.104</td>\n",
       "      <td>0.0</td>\n",
       "      <td>12.0</td>\n",
       "    </tr>\n",
       "    <tr>\n",
       "      <th>1</th>\n",
       "      <td>1</td>\n",
       "      <td>0.0</td>\n",
       "      <td>834.248455</td>\n",
       "      <td>733.260372</td>\n",
       "      <td>-0.012</td>\n",
       "      <td>0.051750</td>\n",
       "      <td>-0.000806</td>\n",
       "      <td>0.086275</td>\n",
       "      <td>0.002694</td>\n",
       "      <td>0.066092</td>\n",
       "      <td>...</td>\n",
       "      <td>0.050856</td>\n",
       "      <td>7.0</td>\n",
       "      <td>181.0</td>\n",
       "      <td>2395.4</td>\n",
       "      <td>29.710</td>\n",
       "      <td>0.095</td>\n",
       "      <td>0.849</td>\n",
       "      <td>84.860</td>\n",
       "      <td>30.0</td>\n",
       "      <td>12.0</td>\n",
       "    </tr>\n",
       "    <tr>\n",
       "      <th>2</th>\n",
       "      <td>2</td>\n",
       "      <td>1.0</td>\n",
       "      <td>834.248455</td>\n",
       "      <td>733.260372</td>\n",
       "      <td>-0.023</td>\n",
       "      <td>0.051500</td>\n",
       "      <td>0.000806</td>\n",
       "      <td>0.089250</td>\n",
       "      <td>0.007530</td>\n",
       "      <td>0.073976</td>\n",
       "      <td>...</td>\n",
       "      <td>0.049432</td>\n",
       "      <td>6.0</td>\n",
       "      <td>156.0</td>\n",
       "      <td>2395.6</td>\n",
       "      <td>29.775</td>\n",
       "      <td>0.083</td>\n",
       "      <td>0.849</td>\n",
       "      <td>84.860</td>\n",
       "      <td>0.0</td>\n",
       "      <td>1.0</td>\n",
       "    </tr>\n",
       "    <tr>\n",
       "      <th>3</th>\n",
       "      <td>3</td>\n",
       "      <td>1.0</td>\n",
       "      <td>834.248455</td>\n",
       "      <td>733.260372</td>\n",
       "      <td>-0.012</td>\n",
       "      <td>0.051021</td>\n",
       "      <td>-0.000806</td>\n",
       "      <td>0.095200</td>\n",
       "      <td>-0.001597</td>\n",
       "      <td>0.073623</td>\n",
       "      <td>...</td>\n",
       "      <td>0.049425</td>\n",
       "      <td>6.0</td>\n",
       "      <td>188.0</td>\n",
       "      <td>2396.8</td>\n",
       "      <td>29.807</td>\n",
       "      <td>0.095</td>\n",
       "      <td>0.851</td>\n",
       "      <td>85.104</td>\n",
       "      <td>30.0</td>\n",
       "      <td>1.0</td>\n",
       "    </tr>\n",
       "    <tr>\n",
       "      <th>4</th>\n",
       "      <td>4</td>\n",
       "      <td>1.0</td>\n",
       "      <td>834.248455</td>\n",
       "      <td>733.260372</td>\n",
       "      <td>-0.059</td>\n",
       "      <td>0.050771</td>\n",
       "      <td>0.000806</td>\n",
       "      <td>0.098175</td>\n",
       "      <td>-0.002606</td>\n",
       "      <td>0.075073</td>\n",
       "      <td>...</td>\n",
       "      <td>0.049441</td>\n",
       "      <td>6.0</td>\n",
       "      <td>150.0</td>\n",
       "      <td>2391.4</td>\n",
       "      <td>29.849</td>\n",
       "      <td>0.107</td>\n",
       "      <td>0.839</td>\n",
       "      <td>83.883</td>\n",
       "      <td>0.0</td>\n",
       "      <td>2.0</td>\n",
       "    </tr>\n",
       "  </tbody>\n",
       "</table>\n",
       "<p>5 rows × 23 columns</p>\n",
       "</div>"
      ],
      "text/plain": [
       "   Unnamed: 0  am/pm  Sunlight_Duration_minutes  True_Solar_Time _min  \\\n",
       "0           0    0.0                 834.248455            733.260372   \n",
       "1           1    0.0                 834.248455            733.260372   \n",
       "2           2    1.0                 834.248455            733.260372   \n",
       "3           3    1.0                 834.248455            733.260372   \n",
       "4           4    1.0                 834.248455            733.260372   \n",
       "\n",
       "   chl_change  chl_mov_avg  seasonality2    trend2  seasonality12   trend12  \\\n",
       "0      -0.035     0.052479      0.000806  0.086261       0.003868  0.066082   \n",
       "1      -0.012     0.051750     -0.000806  0.086275       0.002694  0.066092   \n",
       "2      -0.023     0.051500      0.000806  0.089250       0.007530  0.073976   \n",
       "3      -0.012     0.051021     -0.000806  0.095200      -0.001597  0.073623   \n",
       "4      -0.059     0.050771      0.000806  0.098175      -0.002606  0.075073   \n",
       "\n",
       "   ...   trend48  g_77  wind_direction  external_humidity_AvgVal  \\\n",
       "0  ...  0.050884   7.0           158.0                    2396.0   \n",
       "1  ...  0.050856   7.0           181.0                    2395.4   \n",
       "2  ...  0.049432   6.0           156.0                    2395.6   \n",
       "3  ...  0.049425   6.0           188.0                    2396.8   \n",
       "4  ...  0.049441   6.0           150.0                    2391.4   \n",
       "\n",
       "   Temperature_DegC_y  chlorophyll_concentration_y  e_AvgVolt  \\\n",
       "0              29.656                        0.071      0.851   \n",
       "1              29.710                        0.095      0.849   \n",
       "2              29.775                        0.083      0.849   \n",
       "3              29.807                        0.095      0.851   \n",
       "4              29.849                        0.107      0.839   \n",
       "\n",
       "   e_AvgLinearAdjVal  minute  T_round2_hour  \n",
       "0             85.104     0.0           12.0  \n",
       "1             84.860    30.0           12.0  \n",
       "2             84.860     0.0            1.0  \n",
       "3             85.104    30.0            1.0  \n",
       "4             83.883     0.0            2.0  \n",
       "\n",
       "[5 rows x 23 columns]"
      ]
     },
     "execution_count": 5,
     "metadata": {},
     "output_type": "execute_result"
    }
   ],
   "source": [
    "### user pandas to read the csv (read_csv())\n",
    "### show the top rows\n",
    "new_feat= pd.read_csv(path)\n",
    "new_feat.head()"
   ]
  },
  {
   "cell_type": "code",
   "execution_count": 6,
   "metadata": {},
   "outputs": [],
   "source": [
    "df=new_feat.copy()\n"
   ]
  },
  {
   "cell_type": "code",
   "execution_count": 7,
   "metadata": {},
   "outputs": [
    {
     "data": {
      "text/plain": [
       "['Unnamed: 0',\n",
       " 'am/pm',\n",
       " 'Sunlight_Duration_minutes',\n",
       " 'True_Solar_Time _min',\n",
       " 'chl_change',\n",
       " 'chl_mov_avg',\n",
       " 'seasonality2',\n",
       " 'trend2',\n",
       " 'seasonality12',\n",
       " 'trend12',\n",
       " 'seasonality24',\n",
       " 'trend24',\n",
       " 'seasonality48',\n",
       " 'trend48',\n",
       " 'g_77',\n",
       " 'wind_direction',\n",
       " 'external_humidity_AvgVal',\n",
       " 'Temperature_DegC_y',\n",
       " 'chlorophyll_concentration_y',\n",
       " 'e_AvgVolt',\n",
       " 'e_AvgLinearAdjVal',\n",
       " 'minute',\n",
       " 'T_round2_hour']"
      ]
     },
     "execution_count": 7,
     "metadata": {},
     "output_type": "execute_result"
    }
   ],
   "source": [
    "list(new_feat)"
   ]
  },
  {
   "cell_type": "code",
   "execution_count": 8,
   "metadata": {},
   "outputs": [],
   "source": [
    "##addtion of the y and another important parameter to the df\n",
    "df['chl_pred']=final_df_drop['chl_pred_y_x']\n",
    "# # df['winddirection']=final_df_drop['winddirection']\n",
    "# df['BAROMETER']=final_df_drop['BAROMETER']\n",
    "# df['depth_95']=final_df_drop['depth_95']\n",
    "# df['g_59']=final_df_drop['g_59']\n",
    "# df['g_86']=final_df_drop['g_86']\n",
    "# df['std_g']=final_df_drop['std_g']\n",
    "# # df['dewpoint']=final_df_drop['dewpoint']\n",
    "# # df['Std_Tilt_Deg']=final_df_drop['Std_Tilt_Deg']\n",
    "# df['pressure']=final_df_drop['pressure']\n",
    "df=df.drop(['Unnamed: 0'], axis = 1)\n",
    "# # df=df.drop(['wind_speed'], axis = 1)\n",
    "# df"
   ]
  },
  {
   "cell_type": "code",
   "execution_count": 9,
   "metadata": {},
   "outputs": [
    {
     "data": {
      "text/html": [
       "<div>\n",
       "<style scoped>\n",
       "    .dataframe tbody tr th:only-of-type {\n",
       "        vertical-align: middle;\n",
       "    }\n",
       "\n",
       "    .dataframe tbody tr th {\n",
       "        vertical-align: top;\n",
       "    }\n",
       "\n",
       "    .dataframe thead th {\n",
       "        text-align: right;\n",
       "    }\n",
       "</style>\n",
       "<table border=\"1\" class=\"dataframe\">\n",
       "  <thead>\n",
       "    <tr style=\"text-align: right;\">\n",
       "      <th></th>\n",
       "      <th>am/pm</th>\n",
       "      <th>Sunlight_Duration_minutes</th>\n",
       "      <th>True_Solar_Time _min</th>\n",
       "      <th>chl_change</th>\n",
       "      <th>chl_mov_avg</th>\n",
       "      <th>seasonality2</th>\n",
       "      <th>trend2</th>\n",
       "      <th>seasonality12</th>\n",
       "      <th>trend12</th>\n",
       "      <th>seasonality24</th>\n",
       "      <th>...</th>\n",
       "      <th>trend48</th>\n",
       "      <th>g_77</th>\n",
       "      <th>wind_direction</th>\n",
       "      <th>external_humidity_AvgVal</th>\n",
       "      <th>Temperature_DegC_y</th>\n",
       "      <th>chlorophyll_concentration_y</th>\n",
       "      <th>e_AvgVolt</th>\n",
       "      <th>e_AvgLinearAdjVal</th>\n",
       "      <th>minute</th>\n",
       "      <th>T_round2_hour</th>\n",
       "    </tr>\n",
       "  </thead>\n",
       "  <tbody>\n",
       "    <tr>\n",
       "      <th>0</th>\n",
       "      <td>0.0</td>\n",
       "      <td>834.248455</td>\n",
       "      <td>733.260372</td>\n",
       "      <td>-0.035000</td>\n",
       "      <td>0.052479</td>\n",
       "      <td>0.000806</td>\n",
       "      <td>0.086261</td>\n",
       "      <td>0.003868</td>\n",
       "      <td>0.066082</td>\n",
       "      <td>0.006314</td>\n",
       "      <td>...</td>\n",
       "      <td>0.050884</td>\n",
       "      <td>7.0</td>\n",
       "      <td>158.000</td>\n",
       "      <td>2396.0</td>\n",
       "      <td>29.656</td>\n",
       "      <td>0.071</td>\n",
       "      <td>0.851</td>\n",
       "      <td>85.104</td>\n",
       "      <td>0.0</td>\n",
       "      <td>12.0</td>\n",
       "    </tr>\n",
       "    <tr>\n",
       "      <th>1</th>\n",
       "      <td>0.0</td>\n",
       "      <td>834.248455</td>\n",
       "      <td>733.260372</td>\n",
       "      <td>-0.012000</td>\n",
       "      <td>0.051750</td>\n",
       "      <td>-0.000806</td>\n",
       "      <td>0.086275</td>\n",
       "      <td>0.002694</td>\n",
       "      <td>0.066092</td>\n",
       "      <td>0.006489</td>\n",
       "      <td>...</td>\n",
       "      <td>0.050856</td>\n",
       "      <td>7.0</td>\n",
       "      <td>181.000</td>\n",
       "      <td>2395.4</td>\n",
       "      <td>29.710</td>\n",
       "      <td>0.095</td>\n",
       "      <td>0.849</td>\n",
       "      <td>84.860</td>\n",
       "      <td>30.0</td>\n",
       "      <td>12.0</td>\n",
       "    </tr>\n",
       "    <tr>\n",
       "      <th>2</th>\n",
       "      <td>1.0</td>\n",
       "      <td>834.248455</td>\n",
       "      <td>733.260372</td>\n",
       "      <td>-0.023000</td>\n",
       "      <td>0.051500</td>\n",
       "      <td>0.000806</td>\n",
       "      <td>0.089250</td>\n",
       "      <td>0.007530</td>\n",
       "      <td>0.073976</td>\n",
       "      <td>0.013554</td>\n",
       "      <td>...</td>\n",
       "      <td>0.049432</td>\n",
       "      <td>6.0</td>\n",
       "      <td>156.000</td>\n",
       "      <td>2395.6</td>\n",
       "      <td>29.775</td>\n",
       "      <td>0.083</td>\n",
       "      <td>0.849</td>\n",
       "      <td>84.860</td>\n",
       "      <td>0.0</td>\n",
       "      <td>1.0</td>\n",
       "    </tr>\n",
       "    <tr>\n",
       "      <th>3</th>\n",
       "      <td>1.0</td>\n",
       "      <td>834.248455</td>\n",
       "      <td>733.260372</td>\n",
       "      <td>-0.012000</td>\n",
       "      <td>0.051021</td>\n",
       "      <td>-0.000806</td>\n",
       "      <td>0.095200</td>\n",
       "      <td>-0.001597</td>\n",
       "      <td>0.073623</td>\n",
       "      <td>0.001452</td>\n",
       "      <td>...</td>\n",
       "      <td>0.049425</td>\n",
       "      <td>6.0</td>\n",
       "      <td>188.000</td>\n",
       "      <td>2396.8</td>\n",
       "      <td>29.807</td>\n",
       "      <td>0.095</td>\n",
       "      <td>0.851</td>\n",
       "      <td>85.104</td>\n",
       "      <td>30.0</td>\n",
       "      <td>1.0</td>\n",
       "    </tr>\n",
       "    <tr>\n",
       "      <th>4</th>\n",
       "      <td>1.0</td>\n",
       "      <td>834.248455</td>\n",
       "      <td>733.260372</td>\n",
       "      <td>-0.059000</td>\n",
       "      <td>0.050771</td>\n",
       "      <td>0.000806</td>\n",
       "      <td>0.098175</td>\n",
       "      <td>-0.002606</td>\n",
       "      <td>0.075073</td>\n",
       "      <td>0.002395</td>\n",
       "      <td>...</td>\n",
       "      <td>0.049441</td>\n",
       "      <td>6.0</td>\n",
       "      <td>150.000</td>\n",
       "      <td>2391.4</td>\n",
       "      <td>29.849</td>\n",
       "      <td>0.107</td>\n",
       "      <td>0.839</td>\n",
       "      <td>83.883</td>\n",
       "      <td>0.0</td>\n",
       "      <td>2.0</td>\n",
       "    </tr>\n",
       "    <tr>\n",
       "      <th>...</th>\n",
       "      <td>...</td>\n",
       "      <td>...</td>\n",
       "      <td>...</td>\n",
       "      <td>...</td>\n",
       "      <td>...</td>\n",
       "      <td>...</td>\n",
       "      <td>...</td>\n",
       "      <td>...</td>\n",
       "      <td>...</td>\n",
       "      <td>...</td>\n",
       "      <td>...</td>\n",
       "      <td>...</td>\n",
       "      <td>...</td>\n",
       "      <td>...</td>\n",
       "      <td>...</td>\n",
       "      <td>...</td>\n",
       "      <td>...</td>\n",
       "      <td>...</td>\n",
       "      <td>...</td>\n",
       "      <td>...</td>\n",
       "      <td>...</td>\n",
       "    </tr>\n",
       "    <tr>\n",
       "      <th>19284</th>\n",
       "      <td>1.0</td>\n",
       "      <td>611.650718</td>\n",
       "      <td>752.056426</td>\n",
       "      <td>-0.014298</td>\n",
       "      <td>0.263600</td>\n",
       "      <td>0.000806</td>\n",
       "      <td>0.305525</td>\n",
       "      <td>0.003868</td>\n",
       "      <td>0.298971</td>\n",
       "      <td>0.001487</td>\n",
       "      <td>...</td>\n",
       "      <td>0.305147</td>\n",
       "      <td>11.0</td>\n",
       "      <td>172.341</td>\n",
       "      <td>2305.2</td>\n",
       "      <td>23.768</td>\n",
       "      <td>0.266</td>\n",
       "      <td>0.629</td>\n",
       "      <td>62.882</td>\n",
       "      <td>30.0</td>\n",
       "      <td>4.0</td>\n",
       "    </tr>\n",
       "    <tr>\n",
       "      <th>19285</th>\n",
       "      <td>1.0</td>\n",
       "      <td>611.650718</td>\n",
       "      <td>752.056426</td>\n",
       "      <td>0.004579</td>\n",
       "      <td>0.263000</td>\n",
       "      <td>-0.000806</td>\n",
       "      <td>0.302500</td>\n",
       "      <td>0.002694</td>\n",
       "      <td>0.299979</td>\n",
       "      <td>-0.001026</td>\n",
       "      <td>...</td>\n",
       "      <td>0.307668</td>\n",
       "      <td>11.0</td>\n",
       "      <td>154.939</td>\n",
       "      <td>2298.6</td>\n",
       "      <td>23.825</td>\n",
       "      <td>0.278</td>\n",
       "      <td>0.612</td>\n",
       "      <td>61.172</td>\n",
       "      <td>0.0</td>\n",
       "      <td>5.0</td>\n",
       "    </tr>\n",
       "    <tr>\n",
       "      <th>19286</th>\n",
       "      <td>1.0</td>\n",
       "      <td>611.650718</td>\n",
       "      <td>752.056426</td>\n",
       "      <td>0.004893</td>\n",
       "      <td>0.258000</td>\n",
       "      <td>0.000806</td>\n",
       "      <td>0.302500</td>\n",
       "      <td>0.007530</td>\n",
       "      <td>0.300483</td>\n",
       "      <td>0.001481</td>\n",
       "      <td>...</td>\n",
       "      <td>0.307164</td>\n",
       "      <td>11.0</td>\n",
       "      <td>176.651</td>\n",
       "      <td>2314.4</td>\n",
       "      <td>23.819</td>\n",
       "      <td>0.254</td>\n",
       "      <td>0.651</td>\n",
       "      <td>65.079</td>\n",
       "      <td>30.0</td>\n",
       "      <td>5.0</td>\n",
       "    </tr>\n",
       "    <tr>\n",
       "      <th>19287</th>\n",
       "      <td>1.0</td>\n",
       "      <td>611.650718</td>\n",
       "      <td>752.056426</td>\n",
       "      <td>0.004960</td>\n",
       "      <td>0.260000</td>\n",
       "      <td>-0.000806</td>\n",
       "      <td>0.296450</td>\n",
       "      <td>-0.001597</td>\n",
       "      <td>0.300483</td>\n",
       "      <td>-0.004693</td>\n",
       "      <td>...</td>\n",
       "      <td>0.301366</td>\n",
       "      <td>11.0</td>\n",
       "      <td>71.958</td>\n",
       "      <td>2282.2</td>\n",
       "      <td>23.813</td>\n",
       "      <td>0.278</td>\n",
       "      <td>0.573</td>\n",
       "      <td>57.265</td>\n",
       "      <td>0.0</td>\n",
       "      <td>6.0</td>\n",
       "    </tr>\n",
       "    <tr>\n",
       "      <th>19288</th>\n",
       "      <td>1.0</td>\n",
       "      <td>611.650718</td>\n",
       "      <td>752.056426</td>\n",
       "      <td>0.004917</td>\n",
       "      <td>0.242000</td>\n",
       "      <td>0.000806</td>\n",
       "      <td>0.287375</td>\n",
       "      <td>-0.002606</td>\n",
       "      <td>0.300988</td>\n",
       "      <td>-0.007649</td>\n",
       "      <td>...</td>\n",
       "      <td>0.301870</td>\n",
       "      <td>11.0</td>\n",
       "      <td>77.493</td>\n",
       "      <td>2302.6</td>\n",
       "      <td>24.004</td>\n",
       "      <td>0.242</td>\n",
       "      <td>0.621</td>\n",
       "      <td>62.149</td>\n",
       "      <td>30.0</td>\n",
       "      <td>6.0</td>\n",
       "    </tr>\n",
       "  </tbody>\n",
       "</table>\n",
       "<p>19289 rows × 22 columns</p>\n",
       "</div>"
      ],
      "text/plain": [
       "       am/pm  Sunlight_Duration_minutes  True_Solar_Time _min  chl_change  \\\n",
       "0        0.0                 834.248455            733.260372   -0.035000   \n",
       "1        0.0                 834.248455            733.260372   -0.012000   \n",
       "2        1.0                 834.248455            733.260372   -0.023000   \n",
       "3        1.0                 834.248455            733.260372   -0.012000   \n",
       "4        1.0                 834.248455            733.260372   -0.059000   \n",
       "...      ...                        ...                   ...         ...   \n",
       "19284    1.0                 611.650718            752.056426   -0.014298   \n",
       "19285    1.0                 611.650718            752.056426    0.004579   \n",
       "19286    1.0                 611.650718            752.056426    0.004893   \n",
       "19287    1.0                 611.650718            752.056426    0.004960   \n",
       "19288    1.0                 611.650718            752.056426    0.004917   \n",
       "\n",
       "       chl_mov_avg  seasonality2    trend2  seasonality12   trend12  \\\n",
       "0         0.052479      0.000806  0.086261       0.003868  0.066082   \n",
       "1         0.051750     -0.000806  0.086275       0.002694  0.066092   \n",
       "2         0.051500      0.000806  0.089250       0.007530  0.073976   \n",
       "3         0.051021     -0.000806  0.095200      -0.001597  0.073623   \n",
       "4         0.050771      0.000806  0.098175      -0.002606  0.075073   \n",
       "...            ...           ...       ...            ...       ...   \n",
       "19284     0.263600      0.000806  0.305525       0.003868  0.298971   \n",
       "19285     0.263000     -0.000806  0.302500       0.002694  0.299979   \n",
       "19286     0.258000      0.000806  0.302500       0.007530  0.300483   \n",
       "19287     0.260000     -0.000806  0.296450      -0.001597  0.300483   \n",
       "19288     0.242000      0.000806  0.287375      -0.002606  0.300988   \n",
       "\n",
       "       seasonality24  ...   trend48  g_77  wind_direction  \\\n",
       "0           0.006314  ...  0.050884   7.0         158.000   \n",
       "1           0.006489  ...  0.050856   7.0         181.000   \n",
       "2           0.013554  ...  0.049432   6.0         156.000   \n",
       "3           0.001452  ...  0.049425   6.0         188.000   \n",
       "4           0.002395  ...  0.049441   6.0         150.000   \n",
       "...              ...  ...       ...   ...             ...   \n",
       "19284       0.001487  ...  0.305147  11.0         172.341   \n",
       "19285      -0.001026  ...  0.307668  11.0         154.939   \n",
       "19286       0.001481  ...  0.307164  11.0         176.651   \n",
       "19287      -0.004693  ...  0.301366  11.0          71.958   \n",
       "19288      -0.007649  ...  0.301870  11.0          77.493   \n",
       "\n",
       "       external_humidity_AvgVal  Temperature_DegC_y  \\\n",
       "0                        2396.0              29.656   \n",
       "1                        2395.4              29.710   \n",
       "2                        2395.6              29.775   \n",
       "3                        2396.8              29.807   \n",
       "4                        2391.4              29.849   \n",
       "...                         ...                 ...   \n",
       "19284                    2305.2              23.768   \n",
       "19285                    2298.6              23.825   \n",
       "19286                    2314.4              23.819   \n",
       "19287                    2282.2              23.813   \n",
       "19288                    2302.6              24.004   \n",
       "\n",
       "       chlorophyll_concentration_y  e_AvgVolt  e_AvgLinearAdjVal  minute  \\\n",
       "0                            0.071      0.851             85.104     0.0   \n",
       "1                            0.095      0.849             84.860    30.0   \n",
       "2                            0.083      0.849             84.860     0.0   \n",
       "3                            0.095      0.851             85.104    30.0   \n",
       "4                            0.107      0.839             83.883     0.0   \n",
       "...                            ...        ...                ...     ...   \n",
       "19284                        0.266      0.629             62.882    30.0   \n",
       "19285                        0.278      0.612             61.172     0.0   \n",
       "19286                        0.254      0.651             65.079    30.0   \n",
       "19287                        0.278      0.573             57.265     0.0   \n",
       "19288                        0.242      0.621             62.149    30.0   \n",
       "\n",
       "       T_round2_hour  \n",
       "0               12.0  \n",
       "1               12.0  \n",
       "2                1.0  \n",
       "3                1.0  \n",
       "4                2.0  \n",
       "...              ...  \n",
       "19284            4.0  \n",
       "19285            5.0  \n",
       "19286            5.0  \n",
       "19287            6.0  \n",
       "19288            6.0  \n",
       "\n",
       "[19289 rows x 22 columns]"
      ]
     },
     "execution_count": 9,
     "metadata": {},
     "output_type": "execute_result"
    }
   ],
   "source": [
    "X=df.drop(['chl_pred'], axis = 1)\n",
    "X"
   ]
  },
  {
   "cell_type": "code",
   "execution_count": 10,
   "metadata": {},
   "outputs": [
    {
     "data": {
      "text/html": [
       "<div>\n",
       "<style scoped>\n",
       "    .dataframe tbody tr th:only-of-type {\n",
       "        vertical-align: middle;\n",
       "    }\n",
       "\n",
       "    .dataframe tbody tr th {\n",
       "        vertical-align: top;\n",
       "    }\n",
       "\n",
       "    .dataframe thead th {\n",
       "        text-align: right;\n",
       "    }\n",
       "</style>\n",
       "<table border=\"1\" class=\"dataframe\">\n",
       "  <thead>\n",
       "    <tr style=\"text-align: right;\">\n",
       "      <th></th>\n",
       "      <th>chl_pred</th>\n",
       "    </tr>\n",
       "  </thead>\n",
       "  <tbody>\n",
       "    <tr>\n",
       "      <th>0</th>\n",
       "      <td>0.036</td>\n",
       "    </tr>\n",
       "    <tr>\n",
       "      <th>1</th>\n",
       "      <td>0.083</td>\n",
       "    </tr>\n",
       "    <tr>\n",
       "      <th>2</th>\n",
       "      <td>0.060</td>\n",
       "    </tr>\n",
       "    <tr>\n",
       "      <th>3</th>\n",
       "      <td>0.083</td>\n",
       "    </tr>\n",
       "    <tr>\n",
       "      <th>4</th>\n",
       "      <td>0.048</td>\n",
       "    </tr>\n",
       "    <tr>\n",
       "      <th>...</th>\n",
       "      <td>...</td>\n",
       "    </tr>\n",
       "    <tr>\n",
       "      <th>19284</th>\n",
       "      <td>0.351</td>\n",
       "    </tr>\n",
       "    <tr>\n",
       "      <th>19285</th>\n",
       "      <td>0.315</td>\n",
       "    </tr>\n",
       "    <tr>\n",
       "      <th>19286</th>\n",
       "      <td>0.339</td>\n",
       "    </tr>\n",
       "    <tr>\n",
       "      <th>19287</th>\n",
       "      <td>0.339</td>\n",
       "    </tr>\n",
       "    <tr>\n",
       "      <th>19288</th>\n",
       "      <td>0.315</td>\n",
       "    </tr>\n",
       "  </tbody>\n",
       "</table>\n",
       "<p>19289 rows × 1 columns</p>\n",
       "</div>"
      ],
      "text/plain": [
       "       chl_pred\n",
       "0         0.036\n",
       "1         0.083\n",
       "2         0.060\n",
       "3         0.083\n",
       "4         0.048\n",
       "...         ...\n",
       "19284     0.351\n",
       "19285     0.315\n",
       "19286     0.339\n",
       "19287     0.339\n",
       "19288     0.315\n",
       "\n",
       "[19289 rows x 1 columns]"
      ]
     },
     "execution_count": 10,
     "metadata": {},
     "output_type": "execute_result"
    }
   ],
   "source": [
    "y=pd.DataFrame()\n",
    "y['chl_pred']=df['chl_pred']\n",
    "y"
   ]
  },
  {
   "cell_type": "code",
   "execution_count": 11,
   "metadata": {},
   "outputs": [
    {
     "name": "stdout",
     "output_type": "stream",
     "text": [
      "[(19289, 22), (19289, 1)]\n"
     ]
    }
   ],
   "source": [
    "print([X.shape,y.shape])"
   ]
  },
  {
   "cell_type": "code",
   "execution_count": 12,
   "metadata": {},
   "outputs": [],
   "source": [
    "from sklearn.model_selection import train_test_split\n"
   ]
  },
  {
   "cell_type": "code",
   "execution_count": 13,
   "metadata": {},
   "outputs": [],
   "source": [
    "from sklearn.model_selection import train_test_split\n",
    "from sklearn.model_selection import KFold\n",
    "from sklearn.model_selection import cross_val_score\n",
    "from sklearn.linear_model import LinearRegression\n",
    "from numpy import mean\n",
    "from numpy import absolute\n",
    "from numpy import sqrt\n",
    "import pandas as pd"
   ]
  },
  {
   "cell_type": "code",
   "execution_count": 14,
   "metadata": {},
   "outputs": [],
   "source": [
    "X_train_pre, X_test, y_train_pre, y_test = train_test_split(\n",
    "    X, y, test_size=0.3, random_state=42)"
   ]
  },
  {
   "cell_type": "code",
   "execution_count": 17,
   "metadata": {},
   "outputs": [
    {
     "data": {
      "text/plain": [
       "(10801, 22)"
      ]
     },
     "execution_count": 17,
     "metadata": {},
     "output_type": "execute_result"
    }
   ],
   "source": [
    "X_train.shape"
   ]
  },
  {
   "cell_type": "code",
   "execution_count": 16,
   "metadata": {},
   "outputs": [],
   "source": [
    "X_train, X_dev, y_train, y_dev = train_test_split(\n",
    "    X_train_pre, y_train_pre, test_size=0.2, random_state=42)"
   ]
  },
  {
   "cell_type": "code",
   "execution_count": 24,
   "metadata": {},
   "outputs": [
    {
     "data": {
      "text/plain": [
       "(10801, 22)"
      ]
     },
     "execution_count": 24,
     "metadata": {},
     "output_type": "execute_result"
    }
   ],
   "source": [
    "X_train.shape"
   ]
  },
  {
   "cell_type": "code",
   "execution_count": 18,
   "metadata": {},
   "outputs": [
    {
     "data": {
      "text/html": [
       "<div>\n",
       "<style scoped>\n",
       "    .dataframe tbody tr th:only-of-type {\n",
       "        vertical-align: middle;\n",
       "    }\n",
       "\n",
       "    .dataframe tbody tr th {\n",
       "        vertical-align: top;\n",
       "    }\n",
       "\n",
       "    .dataframe thead th {\n",
       "        text-align: right;\n",
       "    }\n",
       "</style>\n",
       "<table border=\"1\" class=\"dataframe\">\n",
       "  <thead>\n",
       "    <tr style=\"text-align: right;\">\n",
       "      <th></th>\n",
       "      <th>Model</th>\n",
       "      <th>MAE_train</th>\n",
       "      <th>MAE_test</th>\n",
       "      <th>y_score_tr</th>\n",
       "      <th>y_score_ts</th>\n",
       "      <th>MAE_CV</th>\n",
       "    </tr>\n",
       "  </thead>\n",
       "  <tbody>\n",
       "    <tr>\n",
       "      <th>0</th>\n",
       "      <td>NaN</td>\n",
       "      <td>NaN</td>\n",
       "      <td>NaN</td>\n",
       "      <td>NaN</td>\n",
       "      <td>NaN</td>\n",
       "      <td>NaN</td>\n",
       "    </tr>\n",
       "  </tbody>\n",
       "</table>\n",
       "</div>"
      ],
      "text/plain": [
       "  Model MAE_train MAE_test y_score_tr y_score_ts MAE_CV\n",
       "0   NaN       NaN      NaN        NaN        NaN    NaN"
      ]
     },
     "execution_count": 18,
     "metadata": {},
     "output_type": "execute_result"
    }
   ],
   "source": [
    "df_model=[]\n",
    "COLUMN_NAMES=['Model','MAE_train','MAE_test','y_score_tr','y_score_ts','MAE_CV']\n",
    "df_model=pd.DataFrame(columns=COLUMN_NAMES,index=[0])\n",
    "                  \n",
    "df_model"
   ]
  },
  {
   "cell_type": "markdown",
   "metadata": {},
   "source": [
    "### xgboost"
   ]
  },
  {
   "cell_type": "code",
   "execution_count": 19,
   "metadata": {},
   "outputs": [
    {
     "data": {
      "text/plain": [
       "XGBRegressor(base_score=0.5, booster='gbtree', colsample_bylevel=1,\n",
       "             colsample_bynode=1, colsample_bytree=1, gamma=0, gpu_id=-1,\n",
       "             importance_type='gain', interaction_constraints='',\n",
       "             learning_rate=0.300000012, max_delta_step=0, max_depth=6,\n",
       "             min_child_weight=1, missing=nan, monotone_constraints='()',\n",
       "             n_estimators=100, n_jobs=8, num_parallel_tree=1, random_state=0,\n",
       "             reg_alpha=0, reg_lambda=1, scale_pos_weight=1, subsample=1,\n",
       "             tree_method='exact', validate_parameters=1, verbosity=None)"
      ]
     },
     "execution_count": 19,
     "metadata": {},
     "output_type": "execute_result"
    }
   ],
   "source": [
    "from xgboost import XGBRegressor\n",
    "XGBR=XGBRegressor(objective='reg:squarederror')\n",
    "XGBR.fit(X_train, y_train)"
   ]
  },
  {
   "cell_type": "code",
   "execution_count": 20,
   "metadata": {},
   "outputs": [],
   "source": [
    "\n",
    "y_pred_tr = XGBR.predict(X_train)\n",
    "y_pred_dev = XGBR.predict(X_dev)\n",
    "y_pred_ts = XGBR.predict(X_test)\n",
    "\n",
    "y_score_tr=XGBR.score(X_train, y_train)\n",
    "y_score_dev=XGBR.score(X_dev, y_dev)\n",
    "y_score_ts=XGBR.score(X_test, y_test)"
   ]
  },
  {
   "cell_type": "code",
   "execution_count": 21,
   "metadata": {},
   "outputs": [],
   "source": [
    "from sklearn.metrics import mean_absolute_error\n",
    "MAE_train=mean_absolute_error(y_train, y_pred_tr)\n",
    "MAE_dev=mean_absolute_error(y_dev, y_pred_dev)\n",
    "MAE_test=mean_absolute_error(y_test, y_pred_ts)\n",
    "# df_model = pd.DataFrame([['xgboost',MAE_train,MAE_test,y_score_tr,y_score_ts]],columns=COLUMN_NAMES)\n",
    "# df_model"
   ]
  },
  {
   "cell_type": "code",
   "execution_count": 22,
   "metadata": {},
   "outputs": [
    {
     "data": {
      "text/plain": [
       "(0.98088008523969, 0.8663416300942927, 0.8731373465253578)"
      ]
     },
     "execution_count": 22,
     "metadata": {},
     "output_type": "execute_result"
    }
   ],
   "source": [
    "y_score_tr,y_score_dev,y_score_ts"
   ]
  },
  {
   "cell_type": "code",
   "execution_count": 23,
   "metadata": {},
   "outputs": [
    {
     "data": {
      "text/plain": [
       "(0.00968557932614363, 0.020415521582643276, 0.020232185367674113)"
      ]
     },
     "execution_count": 23,
     "metadata": {},
     "output_type": "execute_result"
    }
   ],
   "source": [
    "MAE_train,MAE_dev,MAE_test"
   ]
  },
  {
   "cell_type": "code",
   "execution_count": 24,
   "metadata": {},
   "outputs": [
    {
     "name": "stdout",
     "output_type": "stream",
     "text": [
      "Accuracy: -2.002% (0.049%)\n"
     ]
    },
    {
     "data": {
      "text/html": [
       "<div>\n",
       "<style scoped>\n",
       "    .dataframe tbody tr th:only-of-type {\n",
       "        vertical-align: middle;\n",
       "    }\n",
       "\n",
       "    .dataframe tbody tr th {\n",
       "        vertical-align: top;\n",
       "    }\n",
       "\n",
       "    .dataframe thead th {\n",
       "        text-align: right;\n",
       "    }\n",
       "</style>\n",
       "<table border=\"1\" class=\"dataframe\">\n",
       "  <thead>\n",
       "    <tr style=\"text-align: right;\">\n",
       "      <th></th>\n",
       "      <th>Model</th>\n",
       "      <th>MAE_train</th>\n",
       "      <th>MAE_test</th>\n",
       "      <th>y_score_tr</th>\n",
       "      <th>y_score_ts</th>\n",
       "      <th>MAE_CV</th>\n",
       "    </tr>\n",
       "  </thead>\n",
       "  <tbody>\n",
       "    <tr>\n",
       "      <th>0</th>\n",
       "      <td>NaN</td>\n",
       "      <td>NaN</td>\n",
       "      <td>NaN</td>\n",
       "      <td>NaN</td>\n",
       "      <td>NaN</td>\n",
       "      <td>NaN</td>\n",
       "    </tr>\n",
       "    <tr>\n",
       "      <th>0</th>\n",
       "      <td>xgboost</td>\n",
       "      <td>0.009686</td>\n",
       "      <td>0.020416</td>\n",
       "      <td>0.98088</td>\n",
       "      <td>0.866342</td>\n",
       "      <td>0.020023</td>\n",
       "    </tr>\n",
       "  </tbody>\n",
       "</table>\n",
       "</div>"
      ],
      "text/plain": [
       "     Model  MAE_train  MAE_test  y_score_tr  y_score_ts    MAE_CV\n",
       "0      NaN        NaN       NaN         NaN         NaN       NaN\n",
       "0  xgboost   0.009686  0.020416     0.98088    0.866342  0.020023"
      ]
     },
     "execution_count": 24,
     "metadata": {},
     "output_type": "execute_result"
    }
   ],
   "source": [
    "from sklearn.model_selection import train_test_split\n",
    "from sklearn import model_selection\n",
    "\n",
    "#seed for random state and splits - number of Kfolds\n",
    "random_seed = 10\n",
    "splits = 7\n",
    "\n",
    "#Scikit Kfold model call\n",
    "kfold = model_selection.KFold(n_splits=splits,\\\n",
    "                              random_state=random_seed,shuffle=True)\n",
    "\n",
    "#results set equal to model with kfolds\n",
    "results = model_selection.cross_val_score(XGBR, X_train,\\\n",
    "                                          y_train.values.ravel(),scoring='neg_mean_absolute_error',cv=kfold)\n",
    "\n",
    "#printing the averaged score over the 5 Kfolds\n",
    "print(\"Accuracy: %.3f%% (%.3f%%)\" % (results.mean()*100.0, results.std()*100.0))\n",
    "results\n",
    "# df_acc_cross = df_acc_cross.append(pd.DataFrame([['reg',(results.mean()*100.0),\n",
    "#                                                   (results.std()*100.0),mean(absolute(results))]],\n",
    "#                                                 columns=['Model_CV','Mean_ACU_CV','Std_ACU_CV','MAE_CV']))\n",
    "# df_acc_cross\n",
    "df_model =df_model.append(pd.DataFrame([['xgboost',MAE_train,MAE_dev,y_score_tr,y_score_dev,mean(absolute(results))]],columns=COLUMN_NAMES))\n",
    "df_model"
   ]
  },
  {
   "cell_type": "markdown",
   "metadata": {},
   "source": [
    "### svm"
   ]
  },
  {
   "cell_type": "code",
   "execution_count": 25,
   "metadata": {},
   "outputs": [],
   "source": [
    "from sklearn import svm"
   ]
  },
  {
   "cell_type": "code",
   "execution_count": 26,
   "metadata": {},
   "outputs": [
    {
     "data": {
      "text/plain": [
       "SVR(kernel='sigmoid')"
      ]
     },
     "execution_count": 26,
     "metadata": {},
     "output_type": "execute_result"
    }
   ],
   "source": [
    "svm_reg=svm.SVR(kernel='sigmoid')\n",
    "svm_reg.fit(X_train,y_train.values.ravel())"
   ]
  },
  {
   "cell_type": "code",
   "execution_count": 27,
   "metadata": {},
   "outputs": [],
   "source": [
    "y_pred_dev = svm_reg.predict(X_dev)\n",
    "y_pred_tr = svm_reg.predict(X_train)\n",
    "y_pred_ts = svm_reg.predict(X_test)\n",
    "y_score_tr=svm_reg.score(X_train, y_train)\n",
    "y_score_ts=svm_reg.score(X_test, y_test)\n",
    "y_score_dev=svm_reg.score(X_dev, y_dev)"
   ]
  },
  {
   "cell_type": "code",
   "execution_count": 28,
   "metadata": {},
   "outputs": [],
   "source": [
    "from sklearn.metrics import mean_absolute_error\n",
    "MAE_train=mean_absolute_error(y_train, y_pred_tr)\n",
    "MAE_dev=mean_absolute_error(y_dev, y_pred_dev)\n",
    "MAE_test=mean_absolute_error(y_test, y_pred_ts)"
   ]
  },
  {
   "cell_type": "code",
   "execution_count": 29,
   "metadata": {},
   "outputs": [
    {
     "name": "stdout",
     "output_type": "stream",
     "text": [
      "Accuracy: -67.840% (0.965%)\n"
     ]
    },
    {
     "data": {
      "text/html": [
       "<div>\n",
       "<style scoped>\n",
       "    .dataframe tbody tr th:only-of-type {\n",
       "        vertical-align: middle;\n",
       "    }\n",
       "\n",
       "    .dataframe tbody tr th {\n",
       "        vertical-align: top;\n",
       "    }\n",
       "\n",
       "    .dataframe thead th {\n",
       "        text-align: right;\n",
       "    }\n",
       "</style>\n",
       "<table border=\"1\" class=\"dataframe\">\n",
       "  <thead>\n",
       "    <tr style=\"text-align: right;\">\n",
       "      <th></th>\n",
       "      <th>Model</th>\n",
       "      <th>MAE_train</th>\n",
       "      <th>MAE_test</th>\n",
       "      <th>y_score_tr</th>\n",
       "      <th>y_score_ts</th>\n",
       "      <th>MAE_CV</th>\n",
       "    </tr>\n",
       "  </thead>\n",
       "  <tbody>\n",
       "    <tr>\n",
       "      <th>0</th>\n",
       "      <td>NaN</td>\n",
       "      <td>NaN</td>\n",
       "      <td>NaN</td>\n",
       "      <td>NaN</td>\n",
       "      <td>NaN</td>\n",
       "      <td>NaN</td>\n",
       "    </tr>\n",
       "    <tr>\n",
       "      <th>0</th>\n",
       "      <td>xgboost</td>\n",
       "      <td>0.009686</td>\n",
       "      <td>0.020416</td>\n",
       "      <td>0.980880</td>\n",
       "      <td>0.866342</td>\n",
       "      <td>0.020023</td>\n",
       "    </tr>\n",
       "    <tr>\n",
       "      <th>0</th>\n",
       "      <td>SVR</td>\n",
       "      <td>0.788164</td>\n",
       "      <td>0.785959</td>\n",
       "      <td>-68.953819</td>\n",
       "      <td>-67.112909</td>\n",
       "      <td>0.678403</td>\n",
       "    </tr>\n",
       "  </tbody>\n",
       "</table>\n",
       "</div>"
      ],
      "text/plain": [
       "     Model  MAE_train  MAE_test  y_score_tr  y_score_ts    MAE_CV\n",
       "0      NaN        NaN       NaN         NaN         NaN       NaN\n",
       "0  xgboost   0.009686  0.020416    0.980880    0.866342  0.020023\n",
       "0      SVR   0.788164  0.785959  -68.953819  -67.112909  0.678403"
      ]
     },
     "execution_count": 29,
     "metadata": {},
     "output_type": "execute_result"
    }
   ],
   "source": [
    "from sklearn.model_selection import train_test_split\n",
    "from sklearn import model_selection\n",
    "\n",
    "#seed for random state and splits - number of Kfolds\n",
    "random_seed = 10\n",
    "splits = 7\n",
    "\n",
    "#Scikit Kfold model call\n",
    "kfold = model_selection.KFold(n_splits=splits,\\\n",
    "                              random_state=random_seed,shuffle=True)\n",
    "\n",
    "#results set equal to model with kfolds\n",
    "results = model_selection.cross_val_score(svm_reg, X_train,\\\n",
    "                                          y_train.values.ravel(),scoring='neg_mean_absolute_error',cv=kfold)\n",
    "\n",
    "#printing the averaged score over the 5 Kfolds\n",
    "print(\"Accuracy: %.3f%% (%.3f%%)\" % (results.mean()*100.0, results.std()*100.0))\n",
    "results\n",
    "# df_acc_cross = df_acc_cross.append(pd.DataFrame([['reg',(results.mean()*100.0),\n",
    "#                                                   (results.std()*100.0),mean(absolute(results))]],\n",
    "#                                                 columns=['Model_CV','Mean_ACU_CV','Std_ACU_CV','MAE_CV']))\n",
    "# df_acc_cross\n",
    "df_model =df_model.append(pd.DataFrame([['SVR',MAE_train,MAE_dev,y_score_tr,y_score_dev,mean(absolute(results))]],columns=COLUMN_NAMES))\n",
    "df_model"
   ]
  },
  {
   "cell_type": "markdown",
   "metadata": {},
   "source": [
    "### Gradient Boosting Regressor"
   ]
  },
  {
   "cell_type": "code",
   "execution_count": 30,
   "metadata": {},
   "outputs": [
    {
     "data": {
      "text/plain": [
       "GradientBoostingRegressor()"
      ]
     },
     "execution_count": 30,
     "metadata": {},
     "output_type": "execute_result"
    }
   ],
   "source": [
    "from sklearn.ensemble import GradientBoostingRegressor\n",
    "from sklearn.feature_selection import SelectFromModel\n",
    "\n",
    "gbmod = GradientBoostingRegressor()\n",
    "gbmod.fit(X_train, y_train.values.ravel())"
   ]
  },
  {
   "cell_type": "code",
   "execution_count": 31,
   "metadata": {},
   "outputs": [],
   "source": [
    "\n",
    "y_pred_tr = gbmod.predict(X_train)\n",
    "y_pred_dev = gbmod.predict(X_dev)\n",
    "y_pred_ts = gbmod.predict(X_test)\n",
    "\n",
    "y_score_tr=gbmod.score(X_train, y_train)\n",
    "y_score_dev=gbmod.score(X_dev, y_dev)\n",
    "y_score_ts=gbmod.score(X_test, y_test)"
   ]
  },
  {
   "cell_type": "code",
   "execution_count": 32,
   "metadata": {},
   "outputs": [],
   "source": [
    "from sklearn.metrics import mean_absolute_error\n",
    "MAE_train=mean_absolute_error(y_train, y_pred_tr)\n",
    "MAE_dev=mean_absolute_error(y_dev, y_pred_dev)\n",
    "MAE_test=mean_absolute_error(y_test, y_pred_ts)"
   ]
  },
  {
   "cell_type": "code",
   "execution_count": 33,
   "metadata": {},
   "outputs": [
    {
     "name": "stdout",
     "output_type": "stream",
     "text": [
      "Accuracy: -2.274% (0.043%)\n"
     ]
    },
    {
     "data": {
      "text/html": [
       "<div>\n",
       "<style scoped>\n",
       "    .dataframe tbody tr th:only-of-type {\n",
       "        vertical-align: middle;\n",
       "    }\n",
       "\n",
       "    .dataframe tbody tr th {\n",
       "        vertical-align: top;\n",
       "    }\n",
       "\n",
       "    .dataframe thead th {\n",
       "        text-align: right;\n",
       "    }\n",
       "</style>\n",
       "<table border=\"1\" class=\"dataframe\">\n",
       "  <thead>\n",
       "    <tr style=\"text-align: right;\">\n",
       "      <th></th>\n",
       "      <th>Model</th>\n",
       "      <th>MAE_train</th>\n",
       "      <th>MAE_test</th>\n",
       "      <th>y_score_tr</th>\n",
       "      <th>y_score_ts</th>\n",
       "      <th>MAE_CV</th>\n",
       "    </tr>\n",
       "  </thead>\n",
       "  <tbody>\n",
       "    <tr>\n",
       "      <th>0</th>\n",
       "      <td>NaN</td>\n",
       "      <td>NaN</td>\n",
       "      <td>NaN</td>\n",
       "      <td>NaN</td>\n",
       "      <td>NaN</td>\n",
       "      <td>NaN</td>\n",
       "    </tr>\n",
       "    <tr>\n",
       "      <th>0</th>\n",
       "      <td>xgboost</td>\n",
       "      <td>0.009686</td>\n",
       "      <td>0.020416</td>\n",
       "      <td>0.980880</td>\n",
       "      <td>0.866342</td>\n",
       "      <td>0.020023</td>\n",
       "    </tr>\n",
       "    <tr>\n",
       "      <th>0</th>\n",
       "      <td>SVR</td>\n",
       "      <td>0.788164</td>\n",
       "      <td>0.785959</td>\n",
       "      <td>-68.953819</td>\n",
       "      <td>-67.112909</td>\n",
       "      <td>0.678403</td>\n",
       "    </tr>\n",
       "    <tr>\n",
       "      <th>0</th>\n",
       "      <td>GradientBoosting</td>\n",
       "      <td>0.021243</td>\n",
       "      <td>0.022807</td>\n",
       "      <td>0.896041</td>\n",
       "      <td>0.862781</td>\n",
       "      <td>0.022739</td>\n",
       "    </tr>\n",
       "  </tbody>\n",
       "</table>\n",
       "</div>"
      ],
      "text/plain": [
       "              Model  MAE_train  MAE_test  y_score_tr  y_score_ts    MAE_CV\n",
       "0               NaN        NaN       NaN         NaN         NaN       NaN\n",
       "0           xgboost   0.009686  0.020416    0.980880    0.866342  0.020023\n",
       "0               SVR   0.788164  0.785959  -68.953819  -67.112909  0.678403\n",
       "0  GradientBoosting   0.021243  0.022807    0.896041    0.862781  0.022739"
      ]
     },
     "execution_count": 33,
     "metadata": {},
     "output_type": "execute_result"
    }
   ],
   "source": [
    "from sklearn.model_selection import train_test_split\n",
    "from sklearn import model_selection\n",
    "\n",
    "\n",
    "#seed for random state and splits - number of Kfolds\n",
    "random_seed = 10\n",
    "splits = 7\n",
    "\n",
    "#Scikit Kfold model call\n",
    "kfold = model_selection.KFold(n_splits=splits,\\\n",
    "                              random_state=random_seed,shuffle=True)\n",
    "\n",
    "#results set equal to model with kfolds\n",
    "results = model_selection.cross_val_score(gbmod, X_train,\\\n",
    "                                          y_train.values.ravel(),scoring='neg_mean_absolute_error',cv=kfold)\n",
    "\n",
    "#printing the averaged score over the 5 Kfolds\n",
    "print(\"Accuracy: %.3f%% (%.3f%%)\" % (results.mean()*100.0, results.std()*100.0))\n",
    "results\n",
    "# df_acc_cross = df_acc_cross.append(pd.DataFrame([['reg',(results.mean()*100.0),\n",
    "#                                                   (results.std()*100.0),mean(absolute(results))]],\n",
    "#                                                 columns=['Model_CV','Mean_ACU_CV','Std_ACU_CV','MAE_CV']))\n",
    "# df_acc_cross\n",
    "df_model =df_model.append(pd.DataFrame([['GradientBoosting',MAE_train,MAE_dev,y_score_tr,y_score_dev,mean(absolute(results))]],columns=COLUMN_NAMES))\n",
    "df_model"
   ]
  },
  {
   "cell_type": "markdown",
   "metadata": {},
   "source": [
    "### Random Forest"
   ]
  },
  {
   "cell_type": "code",
   "execution_count": 35,
   "metadata": {},
   "outputs": [
    {
     "name": "stderr",
     "output_type": "stream",
     "text": [
      "C:\\Users\\dalit\\anaconda3\\lib\\site-packages\\ipykernel_launcher.py:3: DataConversionWarning: A column-vector y was passed when a 1d array was expected. Please change the shape of y to (n_samples,), for example using ravel().\n",
      "  This is separate from the ipykernel package so we can avoid doing imports until\n"
     ]
    },
    {
     "data": {
      "text/plain": [
       "RandomForestRegressor(n_estimators=1000, random_state=4)"
      ]
     },
     "execution_count": 35,
     "metadata": {},
     "output_type": "execute_result"
    }
   ],
   "source": [
    "from sklearn.ensemble import RandomForestRegressor, GradientBoostingRegressor\n",
    "rnd= RandomForestRegressor(n_estimators = 1000, random_state = 4)\n",
    "rnd.fit(X_train, y_train)"
   ]
  },
  {
   "cell_type": "code",
   "execution_count": 36,
   "metadata": {},
   "outputs": [],
   "source": [
    "\n",
    "y_pred_tr = rnd.predict(X_train)\n",
    "y_pred_dev = rnd.predict(X_dev)\n",
    "y_pred_ts = rnd.predict(X_test)\n",
    "\n",
    "y_score_tr=rnd.score(X_train, y_train)\n",
    "y_score_dev=rnd.score(X_dev, y_dev)\n",
    "y_score_ts=rnd.score(X_test, y_test)"
   ]
  },
  {
   "cell_type": "code",
   "execution_count": 37,
   "metadata": {},
   "outputs": [],
   "source": [
    "MAE_train=mean_absolute_error(y_train, y_pred_tr)\n",
    "MAE_dev=mean_absolute_error(y_dev, y_pred_dev)\n",
    "MAE_test=mean_absolute_error(y_test, y_pred_ts)"
   ]
  },
  {
   "cell_type": "code",
   "execution_count": 38,
   "metadata": {},
   "outputs": [
    {
     "name": "stdout",
     "output_type": "stream",
     "text": [
      "Accuracy: -1.703% (0.036%)\n"
     ]
    },
    {
     "data": {
      "text/html": [
       "<div>\n",
       "<style scoped>\n",
       "    .dataframe tbody tr th:only-of-type {\n",
       "        vertical-align: middle;\n",
       "    }\n",
       "\n",
       "    .dataframe tbody tr th {\n",
       "        vertical-align: top;\n",
       "    }\n",
       "\n",
       "    .dataframe thead th {\n",
       "        text-align: right;\n",
       "    }\n",
       "</style>\n",
       "<table border=\"1\" class=\"dataframe\">\n",
       "  <thead>\n",
       "    <tr style=\"text-align: right;\">\n",
       "      <th></th>\n",
       "      <th>Model</th>\n",
       "      <th>MAE_train</th>\n",
       "      <th>MAE_test</th>\n",
       "      <th>y_score_tr</th>\n",
       "      <th>y_score_ts</th>\n",
       "      <th>MAE_CV</th>\n",
       "    </tr>\n",
       "  </thead>\n",
       "  <tbody>\n",
       "    <tr>\n",
       "      <th>0</th>\n",
       "      <td>NaN</td>\n",
       "      <td>NaN</td>\n",
       "      <td>NaN</td>\n",
       "      <td>NaN</td>\n",
       "      <td>NaN</td>\n",
       "      <td>NaN</td>\n",
       "    </tr>\n",
       "    <tr>\n",
       "      <th>0</th>\n",
       "      <td>xgboost</td>\n",
       "      <td>0.009686</td>\n",
       "      <td>0.020416</td>\n",
       "      <td>0.980880</td>\n",
       "      <td>0.866342</td>\n",
       "      <td>0.020023</td>\n",
       "    </tr>\n",
       "    <tr>\n",
       "      <th>0</th>\n",
       "      <td>SVR</td>\n",
       "      <td>0.788164</td>\n",
       "      <td>0.785959</td>\n",
       "      <td>-68.953819</td>\n",
       "      <td>-67.112909</td>\n",
       "      <td>0.678403</td>\n",
       "    </tr>\n",
       "    <tr>\n",
       "      <th>0</th>\n",
       "      <td>GradientBoosting</td>\n",
       "      <td>0.021243</td>\n",
       "      <td>0.022807</td>\n",
       "      <td>0.896041</td>\n",
       "      <td>0.862781</td>\n",
       "      <td>0.022739</td>\n",
       "    </tr>\n",
       "    <tr>\n",
       "      <th>0</th>\n",
       "      <td>RandomForest</td>\n",
       "      <td>0.006164</td>\n",
       "      <td>0.017128</td>\n",
       "      <td>0.985575</td>\n",
       "      <td>0.872132</td>\n",
       "      <td>0.017034</td>\n",
       "    </tr>\n",
       "  </tbody>\n",
       "</table>\n",
       "</div>"
      ],
      "text/plain": [
       "              Model  MAE_train  MAE_test  y_score_tr  y_score_ts    MAE_CV\n",
       "0               NaN        NaN       NaN         NaN         NaN       NaN\n",
       "0           xgboost   0.009686  0.020416    0.980880    0.866342  0.020023\n",
       "0               SVR   0.788164  0.785959  -68.953819  -67.112909  0.678403\n",
       "0  GradientBoosting   0.021243  0.022807    0.896041    0.862781  0.022739\n",
       "0      RandomForest   0.006164  0.017128    0.985575    0.872132  0.017034"
      ]
     },
     "execution_count": 38,
     "metadata": {},
     "output_type": "execute_result"
    }
   ],
   "source": [
    "#seed for random state and splits - number of Kfolds\n",
    "random_seed = 10\n",
    "splits = 7\n",
    "\n",
    "#Scikit Kfold model call\n",
    "kfold = model_selection.KFold(n_splits=splits,\\\n",
    "                              random_state=random_seed,shuffle=True)\n",
    "\n",
    "#results set equal to model with kfolds\n",
    "results = model_selection.cross_val_score(rnd, X_train,\\\n",
    "                                          y_train.values.ravel(),scoring='neg_mean_absolute_error',cv=kfold)\n",
    "\n",
    "#printing the averaged score over the 5 Kfolds\n",
    "print(\"Accuracy: %.3f%% (%.3f%%)\" % (results.mean()*100.0, results.std()*100.0))\n",
    "results\n",
    "# df_acc_cross = df_acc_cross.append(pd.DataFrame([['reg',(results.mean()*100.0),\n",
    "#                                                   (results.std()*100.0),mean(absolute(results))]],\n",
    "#                                                 columns=['Model_CV','Mean_ACU_CV','Std_ACU_CV','MAE_CV']))\n",
    "# df_acc_cross\n",
    "df_model =df_model.append(pd.DataFrame([['RandomForest',MAE_train,MAE_dev,y_score_tr,y_score_dev,mean(absolute(results))]],columns=COLUMN_NAMES))\n",
    "df_model"
   ]
  },
  {
   "cell_type": "markdown",
   "metadata": {},
   "source": [
    "### Decision Tree Regressor"
   ]
  },
  {
   "cell_type": "code",
   "execution_count": 39,
   "metadata": {},
   "outputs": [],
   "source": [
    "from sklearn import tree"
   ]
  },
  {
   "cell_type": "code",
   "execution_count": 40,
   "metadata": {},
   "outputs": [
    {
     "data": {
      "text/plain": [
       "DecisionTreeRegressor(max_depth=1)"
      ]
     },
     "execution_count": 40,
     "metadata": {},
     "output_type": "execute_result"
    }
   ],
   "source": [
    "dec = tree.DecisionTreeRegressor(max_depth=1)\n",
    "dec.fit(X_train,y_train)"
   ]
  },
  {
   "cell_type": "code",
   "execution_count": 41,
   "metadata": {},
   "outputs": [],
   "source": [
    "y_pred_tr = dec.predict(X_train)\n",
    "y_pred_dev = dec.predict(X_dev)\n",
    "y_pred_ts = dec.predict(X_test)\n",
    "\n",
    "y_score_tr=dec.score(X_train, y_train)\n",
    "y_score_dev=dec.score(X_dev, y_dev)\n",
    "y_score_ts=dec.score(X_test, y_test)"
   ]
  },
  {
   "cell_type": "code",
   "execution_count": 42,
   "metadata": {},
   "outputs": [],
   "source": [
    "from sklearn.metrics import mean_absolute_error\n",
    "MAE_train=mean_absolute_error(y_train, y_pred_tr)\n",
    "MAE_dev=mean_absolute_error(y_dev, y_pred_dev)\n",
    "MAE_test=mean_absolute_error(y_test, y_pred_ts)"
   ]
  },
  {
   "cell_type": "code",
   "execution_count": 43,
   "metadata": {},
   "outputs": [
    {
     "name": "stdout",
     "output_type": "stream",
     "text": [
      "Accuracy: -6.188% (0.134%)\n"
     ]
    },
    {
     "data": {
      "text/html": [
       "<div>\n",
       "<style scoped>\n",
       "    .dataframe tbody tr th:only-of-type {\n",
       "        vertical-align: middle;\n",
       "    }\n",
       "\n",
       "    .dataframe tbody tr th {\n",
       "        vertical-align: top;\n",
       "    }\n",
       "\n",
       "    .dataframe thead th {\n",
       "        text-align: right;\n",
       "    }\n",
       "</style>\n",
       "<table border=\"1\" class=\"dataframe\">\n",
       "  <thead>\n",
       "    <tr style=\"text-align: right;\">\n",
       "      <th></th>\n",
       "      <th>Model</th>\n",
       "      <th>MAE_train</th>\n",
       "      <th>MAE_test</th>\n",
       "      <th>y_score_tr</th>\n",
       "      <th>y_score_ts</th>\n",
       "      <th>MAE_CV</th>\n",
       "    </tr>\n",
       "  </thead>\n",
       "  <tbody>\n",
       "    <tr>\n",
       "      <th>0</th>\n",
       "      <td>NaN</td>\n",
       "      <td>NaN</td>\n",
       "      <td>NaN</td>\n",
       "      <td>NaN</td>\n",
       "      <td>NaN</td>\n",
       "      <td>NaN</td>\n",
       "    </tr>\n",
       "    <tr>\n",
       "      <th>0</th>\n",
       "      <td>xgboost</td>\n",
       "      <td>0.009686</td>\n",
       "      <td>0.020416</td>\n",
       "      <td>0.980880</td>\n",
       "      <td>0.866342</td>\n",
       "      <td>0.020023</td>\n",
       "    </tr>\n",
       "    <tr>\n",
       "      <th>0</th>\n",
       "      <td>SVR</td>\n",
       "      <td>0.788164</td>\n",
       "      <td>0.785959</td>\n",
       "      <td>-68.953819</td>\n",
       "      <td>-67.112909</td>\n",
       "      <td>0.678403</td>\n",
       "    </tr>\n",
       "    <tr>\n",
       "      <th>0</th>\n",
       "      <td>GradientBoosting</td>\n",
       "      <td>0.021243</td>\n",
       "      <td>0.022807</td>\n",
       "      <td>0.896041</td>\n",
       "      <td>0.862781</td>\n",
       "      <td>0.022739</td>\n",
       "    </tr>\n",
       "    <tr>\n",
       "      <th>0</th>\n",
       "      <td>RandomForest</td>\n",
       "      <td>0.006164</td>\n",
       "      <td>0.017128</td>\n",
       "      <td>0.985575</td>\n",
       "      <td>0.872132</td>\n",
       "      <td>0.017034</td>\n",
       "    </tr>\n",
       "    <tr>\n",
       "      <th>0</th>\n",
       "      <td>DecisionTree</td>\n",
       "      <td>0.061809</td>\n",
       "      <td>0.062415</td>\n",
       "      <td>0.538064</td>\n",
       "      <td>0.544218</td>\n",
       "      <td>0.061877</td>\n",
       "    </tr>\n",
       "  </tbody>\n",
       "</table>\n",
       "</div>"
      ],
      "text/plain": [
       "              Model  MAE_train  MAE_test  y_score_tr  y_score_ts    MAE_CV\n",
       "0               NaN        NaN       NaN         NaN         NaN       NaN\n",
       "0           xgboost   0.009686  0.020416    0.980880    0.866342  0.020023\n",
       "0               SVR   0.788164  0.785959  -68.953819  -67.112909  0.678403\n",
       "0  GradientBoosting   0.021243  0.022807    0.896041    0.862781  0.022739\n",
       "0      RandomForest   0.006164  0.017128    0.985575    0.872132  0.017034\n",
       "0      DecisionTree   0.061809  0.062415    0.538064    0.544218  0.061877"
      ]
     },
     "execution_count": 43,
     "metadata": {},
     "output_type": "execute_result"
    }
   ],
   "source": [
    "from sklearn.model_selection import train_test_split\n",
    "from sklearn import model_selection\n",
    "\n",
    "from sklearn.model_selection import train_test_split\n",
    "from sklearn import model_selection\n",
    "\n",
    "\n",
    "#seed for random state and splits - number of Kfolds\n",
    "random_seed = 10\n",
    "splits = 7\n",
    "\n",
    "#Scikit Kfold model call\n",
    "kfold = model_selection.KFold(n_splits=splits,\\\n",
    "                              random_state=random_seed,shuffle=True)\n",
    "\n",
    "#results set equal to model with kfolds\n",
    "results = model_selection.cross_val_score(dec, X_train,\\\n",
    "                                          y_train.values.ravel(),scoring='neg_mean_absolute_error',cv=kfold)\n",
    "\n",
    "#printing the averaged score over the 5 Kfolds\n",
    "print(\"Accuracy: %.3f%% (%.3f%%)\" % (results.mean()*100.0, results.std()*100.0))\n",
    "results\n",
    "# df_acc_cross = df_acc_cross.append(pd.DataFrame([['reg',(results.mean()*100.0),\n",
    "#                                                   (results.std()*100.0),mean(absolute(results))]],\n",
    "#                                                 columns=['Model_CV','Mean_ACU_CV','Std_ACU_CV','MAE_CV']))\n",
    "# df_acc_cross\n",
    "df_model =df_model.append(pd.DataFrame([['DecisionTree',MAE_train,MAE_dev,y_score_tr,y_score_dev,mean(absolute(results))]],columns=COLUMN_NAMES))\n",
    "df_model"
   ]
  },
  {
   "cell_type": "markdown",
   "metadata": {},
   "source": [
    "### knn"
   ]
  },
  {
   "cell_type": "code",
   "execution_count": 44,
   "metadata": {},
   "outputs": [],
   "source": [
    "from sklearn import neighbors"
   ]
  },
  {
   "cell_type": "code",
   "execution_count": 45,
   "metadata": {},
   "outputs": [
    {
     "data": {
      "text/plain": [
       "KNeighborsRegressor()"
      ]
     },
     "execution_count": 45,
     "metadata": {},
     "output_type": "execute_result"
    }
   ],
   "source": [
    "n_neighbors=5\n",
    "knn=neighbors.KNeighborsRegressor(n_neighbors,weights='uniform')\n",
    "knn.fit(X_train,y_train)"
   ]
  },
  {
   "cell_type": "code",
   "execution_count": 46,
   "metadata": {},
   "outputs": [],
   "source": [
    "y_pred_tr = knn.predict(X_train)\n",
    "y_pred_dev = knn.predict(X_dev)\n",
    "y_pred_ts = knn.predict(X_test)\n",
    "\n",
    "y_score_tr=knn.score(X_train, y_train)\n",
    "y_score_dev=knn.score(X_dev, y_dev)\n",
    "y_score_ts=knn.score(X_test, y_test)"
   ]
  },
  {
   "cell_type": "code",
   "execution_count": 47,
   "metadata": {},
   "outputs": [],
   "source": [
    "from sklearn.metrics import mean_absolute_error\n",
    "MAE_train=mean_absolute_error(y_train, y_pred_tr)\n",
    "MAE_dev=mean_absolute_error(y_dev, y_pred_dev)\n",
    "MAE_test=mean_absolute_error(y_test, y_pred_ts)"
   ]
  },
  {
   "cell_type": "code",
   "execution_count": 48,
   "metadata": {},
   "outputs": [
    {
     "name": "stdout",
     "output_type": "stream",
     "text": [
      "Accuracy: -4.523% (0.052%)\n"
     ]
    },
    {
     "data": {
      "text/html": [
       "<div>\n",
       "<style scoped>\n",
       "    .dataframe tbody tr th:only-of-type {\n",
       "        vertical-align: middle;\n",
       "    }\n",
       "\n",
       "    .dataframe tbody tr th {\n",
       "        vertical-align: top;\n",
       "    }\n",
       "\n",
       "    .dataframe thead th {\n",
       "        text-align: right;\n",
       "    }\n",
       "</style>\n",
       "<table border=\"1\" class=\"dataframe\">\n",
       "  <thead>\n",
       "    <tr style=\"text-align: right;\">\n",
       "      <th></th>\n",
       "      <th>Model</th>\n",
       "      <th>MAE_train</th>\n",
       "      <th>MAE_test</th>\n",
       "      <th>y_score_tr</th>\n",
       "      <th>y_score_ts</th>\n",
       "      <th>MAE_CV</th>\n",
       "    </tr>\n",
       "  </thead>\n",
       "  <tbody>\n",
       "    <tr>\n",
       "      <th>0</th>\n",
       "      <td>NaN</td>\n",
       "      <td>NaN</td>\n",
       "      <td>NaN</td>\n",
       "      <td>NaN</td>\n",
       "      <td>NaN</td>\n",
       "      <td>NaN</td>\n",
       "    </tr>\n",
       "    <tr>\n",
       "      <th>0</th>\n",
       "      <td>xgboost</td>\n",
       "      <td>0.009686</td>\n",
       "      <td>0.020416</td>\n",
       "      <td>0.980880</td>\n",
       "      <td>0.866342</td>\n",
       "      <td>0.020023</td>\n",
       "    </tr>\n",
       "    <tr>\n",
       "      <th>0</th>\n",
       "      <td>SVR</td>\n",
       "      <td>0.788164</td>\n",
       "      <td>0.785959</td>\n",
       "      <td>-68.953819</td>\n",
       "      <td>-67.112909</td>\n",
       "      <td>0.678403</td>\n",
       "    </tr>\n",
       "    <tr>\n",
       "      <th>0</th>\n",
       "      <td>GradientBoosting</td>\n",
       "      <td>0.021243</td>\n",
       "      <td>0.022807</td>\n",
       "      <td>0.896041</td>\n",
       "      <td>0.862781</td>\n",
       "      <td>0.022739</td>\n",
       "    </tr>\n",
       "    <tr>\n",
       "      <th>0</th>\n",
       "      <td>RandomForest</td>\n",
       "      <td>0.006164</td>\n",
       "      <td>0.017128</td>\n",
       "      <td>0.985575</td>\n",
       "      <td>0.872132</td>\n",
       "      <td>0.017034</td>\n",
       "    </tr>\n",
       "    <tr>\n",
       "      <th>0</th>\n",
       "      <td>DecisionTree</td>\n",
       "      <td>0.061809</td>\n",
       "      <td>0.062415</td>\n",
       "      <td>0.538064</td>\n",
       "      <td>0.544218</td>\n",
       "      <td>0.061877</td>\n",
       "    </tr>\n",
       "    <tr>\n",
       "      <th>0</th>\n",
       "      <td>KNN</td>\n",
       "      <td>0.036134</td>\n",
       "      <td>0.044785</td>\n",
       "      <td>0.811268</td>\n",
       "      <td>0.704872</td>\n",
       "      <td>0.045233</td>\n",
       "    </tr>\n",
       "  </tbody>\n",
       "</table>\n",
       "</div>"
      ],
      "text/plain": [
       "              Model  MAE_train  MAE_test  y_score_tr  y_score_ts    MAE_CV\n",
       "0               NaN        NaN       NaN         NaN         NaN       NaN\n",
       "0           xgboost   0.009686  0.020416    0.980880    0.866342  0.020023\n",
       "0               SVR   0.788164  0.785959  -68.953819  -67.112909  0.678403\n",
       "0  GradientBoosting   0.021243  0.022807    0.896041    0.862781  0.022739\n",
       "0      RandomForest   0.006164  0.017128    0.985575    0.872132  0.017034\n",
       "0      DecisionTree   0.061809  0.062415    0.538064    0.544218  0.061877\n",
       "0               KNN   0.036134  0.044785    0.811268    0.704872  0.045233"
      ]
     },
     "execution_count": 48,
     "metadata": {},
     "output_type": "execute_result"
    }
   ],
   "source": [
    "from sklearn.model_selection import train_test_split\n",
    "from sklearn import model_selection\n",
    "\n",
    "\n",
    "#seed for random state and splits - number of Kfolds\n",
    "random_seed = 10\n",
    "splits = 7\n",
    "\n",
    "#Scikit Kfold model call\n",
    "kfold = model_selection.KFold(n_splits=splits,\\\n",
    "                              random_state=random_seed,shuffle=True)\n",
    "\n",
    "#results set equal to model with kfolds\n",
    "results = model_selection.cross_val_score(knn, X_train,\\\n",
    "                                          y_train.values.ravel(),scoring='neg_mean_absolute_error',cv=kfold)\n",
    "\n",
    "#printing the averaged score over the 5 Kfolds\n",
    "print(\"Accuracy: %.3f%% (%.3f%%)\" % (results.mean()*100.0, results.std()*100.0))\n",
    "results\n",
    "# df_acc_cross = df_acc_cross.append(pd.DataFrame([['reg',(results.mean()*100.0),\n",
    "#                                                   (results.std()*100.0),mean(absolute(results))]],\n",
    "#                                                 columns=['Model_CV','Mean_ACU_CV','Std_ACU_CV','MAE_CV']))\n",
    "# df_acc_cross\n",
    "df_model =df_model.append(pd.DataFrame([['KNN',MAE_train,MAE_dev,y_score_tr,y_score_dev,mean(absolute(results))]],columns=COLUMN_NAMES))\n",
    "df_model"
   ]
  },
  {
   "cell_type": "markdown",
   "metadata": {},
   "source": [
    "### BayesianRidge"
   ]
  },
  {
   "cell_type": "code",
   "execution_count": 49,
   "metadata": {},
   "outputs": [
    {
     "data": {
      "text/plain": [
       "BayesianRidge()"
      ]
     },
     "execution_count": 49,
     "metadata": {},
     "output_type": "execute_result"
    }
   ],
   "source": [
    "from sklearn import linear_model\n",
    "reg = linear_model.BayesianRidge()\n",
    "reg.fit(X_train,y_train.values.ravel())"
   ]
  },
  {
   "cell_type": "code",
   "execution_count": 50,
   "metadata": {},
   "outputs": [],
   "source": [
    "y_pred_tr = reg.predict(X_train)\n",
    "y_pred_dev = reg.predict(X_dev)\n",
    "y_pred_ts = reg.predict(X_test)\n",
    "\n",
    "y_score_tr=reg.score(X_train, y_train)\n",
    "y_score_dev=reg.score(X_dev, y_dev)\n",
    "y_score_ts=reg.score(X_test, y_test)"
   ]
  },
  {
   "cell_type": "code",
   "execution_count": 51,
   "metadata": {},
   "outputs": [],
   "source": [
    "from sklearn.metrics import mean_absolute_error\n",
    "MAE_train=mean_absolute_error(y_train, y_pred_tr)\n",
    "MAE_dev=mean_absolute_error(y_dev, y_pred_dev)\n",
    "MAE_test=mean_absolute_error(y_test, y_pred_ts)"
   ]
  },
  {
   "cell_type": "code",
   "execution_count": 52,
   "metadata": {},
   "outputs": [
    {
     "name": "stdout",
     "output_type": "stream",
     "text": [
      "Accuracy: -2.589% (0.049%)\n"
     ]
    },
    {
     "data": {
      "text/html": [
       "<div>\n",
       "<style scoped>\n",
       "    .dataframe tbody tr th:only-of-type {\n",
       "        vertical-align: middle;\n",
       "    }\n",
       "\n",
       "    .dataframe tbody tr th {\n",
       "        vertical-align: top;\n",
       "    }\n",
       "\n",
       "    .dataframe thead th {\n",
       "        text-align: right;\n",
       "    }\n",
       "</style>\n",
       "<table border=\"1\" class=\"dataframe\">\n",
       "  <thead>\n",
       "    <tr style=\"text-align: right;\">\n",
       "      <th></th>\n",
       "      <th>Model</th>\n",
       "      <th>MAE_train</th>\n",
       "      <th>MAE_test</th>\n",
       "      <th>y_score_tr</th>\n",
       "      <th>y_score_ts</th>\n",
       "      <th>MAE_CV</th>\n",
       "    </tr>\n",
       "  </thead>\n",
       "  <tbody>\n",
       "    <tr>\n",
       "      <th>0</th>\n",
       "      <td>NaN</td>\n",
       "      <td>NaN</td>\n",
       "      <td>NaN</td>\n",
       "      <td>NaN</td>\n",
       "      <td>NaN</td>\n",
       "      <td>NaN</td>\n",
       "    </tr>\n",
       "    <tr>\n",
       "      <th>0</th>\n",
       "      <td>xgboost</td>\n",
       "      <td>0.009686</td>\n",
       "      <td>0.020416</td>\n",
       "      <td>0.980880</td>\n",
       "      <td>0.866342</td>\n",
       "      <td>0.020023</td>\n",
       "    </tr>\n",
       "    <tr>\n",
       "      <th>0</th>\n",
       "      <td>SVR</td>\n",
       "      <td>0.788164</td>\n",
       "      <td>0.785959</td>\n",
       "      <td>-68.953819</td>\n",
       "      <td>-67.112909</td>\n",
       "      <td>0.678403</td>\n",
       "    </tr>\n",
       "    <tr>\n",
       "      <th>0</th>\n",
       "      <td>GradientBoosting</td>\n",
       "      <td>0.021243</td>\n",
       "      <td>0.022807</td>\n",
       "      <td>0.896041</td>\n",
       "      <td>0.862781</td>\n",
       "      <td>0.022739</td>\n",
       "    </tr>\n",
       "    <tr>\n",
       "      <th>0</th>\n",
       "      <td>RandomForest</td>\n",
       "      <td>0.006164</td>\n",
       "      <td>0.017128</td>\n",
       "      <td>0.985575</td>\n",
       "      <td>0.872132</td>\n",
       "      <td>0.017034</td>\n",
       "    </tr>\n",
       "    <tr>\n",
       "      <th>0</th>\n",
       "      <td>DecisionTree</td>\n",
       "      <td>0.061809</td>\n",
       "      <td>0.062415</td>\n",
       "      <td>0.538064</td>\n",
       "      <td>0.544218</td>\n",
       "      <td>0.061877</td>\n",
       "    </tr>\n",
       "    <tr>\n",
       "      <th>0</th>\n",
       "      <td>KNN</td>\n",
       "      <td>0.036134</td>\n",
       "      <td>0.044785</td>\n",
       "      <td>0.811268</td>\n",
       "      <td>0.704872</td>\n",
       "      <td>0.045233</td>\n",
       "    </tr>\n",
       "    <tr>\n",
       "      <th>0</th>\n",
       "      <td>BayesianRidge</td>\n",
       "      <td>0.025819</td>\n",
       "      <td>0.025764</td>\n",
       "      <td>0.855004</td>\n",
       "      <td>0.843528</td>\n",
       "      <td>0.025891</td>\n",
       "    </tr>\n",
       "  </tbody>\n",
       "</table>\n",
       "</div>"
      ],
      "text/plain": [
       "              Model  MAE_train  MAE_test  y_score_tr  y_score_ts    MAE_CV\n",
       "0               NaN        NaN       NaN         NaN         NaN       NaN\n",
       "0           xgboost   0.009686  0.020416    0.980880    0.866342  0.020023\n",
       "0               SVR   0.788164  0.785959  -68.953819  -67.112909  0.678403\n",
       "0  GradientBoosting   0.021243  0.022807    0.896041    0.862781  0.022739\n",
       "0      RandomForest   0.006164  0.017128    0.985575    0.872132  0.017034\n",
       "0      DecisionTree   0.061809  0.062415    0.538064    0.544218  0.061877\n",
       "0               KNN   0.036134  0.044785    0.811268    0.704872  0.045233\n",
       "0     BayesianRidge   0.025819  0.025764    0.855004    0.843528  0.025891"
      ]
     },
     "execution_count": 52,
     "metadata": {},
     "output_type": "execute_result"
    }
   ],
   "source": [
    "from sklearn.model_selection import train_test_split\n",
    "from sklearn.model_selection import KFold\n",
    "from sklearn.model_selection import cross_val_score\n",
    "from sklearn.linear_model import LinearRegression\n",
    "from numpy import mean\n",
    "from numpy import absolute\n",
    "from numpy import sqrt\n",
    "import pandas as pd\n",
    "\n",
    "\n",
    "#seed for random state and splits - number of Kfolds\n",
    "random_seed = 10\n",
    "splits = 7\n",
    "\n",
    "#Scikit Kfold model call\n",
    "kfold = model_selection.KFold(n_splits=splits,\\\n",
    "                              random_state=random_seed,shuffle=True)\n",
    "\n",
    "#results set equal to model with kfolds\n",
    "results = model_selection.cross_val_score(reg, X_train,\\\n",
    "                                          y_train.values.ravel(),scoring='neg_mean_absolute_error',cv=kfold)\n",
    "\n",
    "#printing the averaged score over the 5 Kfolds\n",
    "print(\"Accuracy: %.3f%% (%.3f%%)\" % (results.mean()*100.0, results.std()*100.0))\n",
    "results\n",
    "# df_acc_cross = df_acc_cross.append(pd.DataFrame([['reg',(results.mean()*100.0),\n",
    "#                                                   (results.std()*100.0),mean(absolute(results))]],\n",
    "#                                                 columns=['Model_CV','Mean_ACU_CV','Std_ACU_CV','MAE_CV']))\n",
    "# df_acc_cross\n",
    "df_model =df_model.append(pd.DataFrame([['BayesianRidge',MAE_train,MAE_dev,y_score_tr,y_score_dev,mean(absolute(results))]],columns=COLUMN_NAMES))\n",
    "df_model"
   ]
  },
  {
   "cell_type": "code",
   "execution_count": 53,
   "metadata": {},
   "outputs": [
    {
     "data": {
      "text/html": [
       "<div>\n",
       "<style scoped>\n",
       "    .dataframe tbody tr th:only-of-type {\n",
       "        vertical-align: middle;\n",
       "    }\n",
       "\n",
       "    .dataframe tbody tr th {\n",
       "        vertical-align: top;\n",
       "    }\n",
       "\n",
       "    .dataframe thead th {\n",
       "        text-align: right;\n",
       "    }\n",
       "</style>\n",
       "<table border=\"1\" class=\"dataframe\">\n",
       "  <thead>\n",
       "    <tr style=\"text-align: right;\">\n",
       "      <th></th>\n",
       "      <th>Model</th>\n",
       "      <th>MAE_train</th>\n",
       "      <th>MAE_test</th>\n",
       "      <th>y_score_tr</th>\n",
       "      <th>y_score_ts</th>\n",
       "      <th>MAE_CV</th>\n",
       "    </tr>\n",
       "  </thead>\n",
       "  <tbody>\n",
       "    <tr>\n",
       "      <th>0</th>\n",
       "      <td>RandomForest</td>\n",
       "      <td>0.006164</td>\n",
       "      <td>0.017128</td>\n",
       "      <td>0.985575</td>\n",
       "      <td>0.872132</td>\n",
       "      <td>0.017034</td>\n",
       "    </tr>\n",
       "    <tr>\n",
       "      <th>0</th>\n",
       "      <td>xgboost</td>\n",
       "      <td>0.009686</td>\n",
       "      <td>0.020416</td>\n",
       "      <td>0.980880</td>\n",
       "      <td>0.866342</td>\n",
       "      <td>0.020023</td>\n",
       "    </tr>\n",
       "    <tr>\n",
       "      <th>0</th>\n",
       "      <td>GradientBoosting</td>\n",
       "      <td>0.021243</td>\n",
       "      <td>0.022807</td>\n",
       "      <td>0.896041</td>\n",
       "      <td>0.862781</td>\n",
       "      <td>0.022739</td>\n",
       "    </tr>\n",
       "    <tr>\n",
       "      <th>0</th>\n",
       "      <td>BayesianRidge</td>\n",
       "      <td>0.025819</td>\n",
       "      <td>0.025764</td>\n",
       "      <td>0.855004</td>\n",
       "      <td>0.843528</td>\n",
       "      <td>0.025891</td>\n",
       "    </tr>\n",
       "    <tr>\n",
       "      <th>0</th>\n",
       "      <td>KNN</td>\n",
       "      <td>0.036134</td>\n",
       "      <td>0.044785</td>\n",
       "      <td>0.811268</td>\n",
       "      <td>0.704872</td>\n",
       "      <td>0.045233</td>\n",
       "    </tr>\n",
       "    <tr>\n",
       "      <th>0</th>\n",
       "      <td>DecisionTree</td>\n",
       "      <td>0.061809</td>\n",
       "      <td>0.062415</td>\n",
       "      <td>0.538064</td>\n",
       "      <td>0.544218</td>\n",
       "      <td>0.061877</td>\n",
       "    </tr>\n",
       "    <tr>\n",
       "      <th>0</th>\n",
       "      <td>SVR</td>\n",
       "      <td>0.788164</td>\n",
       "      <td>0.785959</td>\n",
       "      <td>-68.953819</td>\n",
       "      <td>-67.112909</td>\n",
       "      <td>0.678403</td>\n",
       "    </tr>\n",
       "    <tr>\n",
       "      <th>0</th>\n",
       "      <td>NaN</td>\n",
       "      <td>NaN</td>\n",
       "      <td>NaN</td>\n",
       "      <td>NaN</td>\n",
       "      <td>NaN</td>\n",
       "      <td>NaN</td>\n",
       "    </tr>\n",
       "  </tbody>\n",
       "</table>\n",
       "</div>"
      ],
      "text/plain": [
       "              Model  MAE_train  MAE_test  y_score_tr  y_score_ts    MAE_CV\n",
       "0      RandomForest   0.006164  0.017128    0.985575    0.872132  0.017034\n",
       "0           xgboost   0.009686  0.020416    0.980880    0.866342  0.020023\n",
       "0  GradientBoosting   0.021243  0.022807    0.896041    0.862781  0.022739\n",
       "0     BayesianRidge   0.025819  0.025764    0.855004    0.843528  0.025891\n",
       "0               KNN   0.036134  0.044785    0.811268    0.704872  0.045233\n",
       "0      DecisionTree   0.061809  0.062415    0.538064    0.544218  0.061877\n",
       "0               SVR   0.788164  0.785959  -68.953819  -67.112909  0.678403\n",
       "0               NaN        NaN       NaN         NaN         NaN       NaN"
      ]
     },
     "execution_count": 53,
     "metadata": {},
     "output_type": "execute_result"
    }
   ],
   "source": [
    "df_model.sort_values(by='MAE_CV',ascending=True)"
   ]
  },
  {
   "cell_type": "markdown",
   "metadata": {},
   "source": [
    "# Model Fine-tuning"
   ]
  },
  {
   "cell_type": "code",
   "execution_count": 54,
   "metadata": {},
   "outputs": [],
   "source": [
    "from sklearn.metrics import mean_squared_log_error, mean_absolute_error\n",
    "from sklearn.ensemble import RandomForestRegressor, GradientBoostingRegressor\n",
    "from sklearn.model_selection import train_test_split, GridSearchCV, RandomizedSearchCV\n",
    "from sklearn.preprocessing import OneHotEncoder, LabelEncoder"
   ]
  },
  {
   "cell_type": "code",
   "execution_count": 55,
   "metadata": {},
   "outputs": [],
   "source": [
    "from sklearn.model_selection import train_test_split\n",
    "from sklearn.model_selection import KFold\n",
    "from sklearn.model_selection import cross_val_score\n",
    "from sklearn.linear_model import LinearRegression\n",
    "from numpy import mean\n",
    "from numpy import absolute\n",
    "from numpy import sqrt\n",
    "import pandas as pd\n",
    "from xgboost import XGBRegressor"
   ]
  },
  {
   "cell_type": "code",
   "execution_count": 56,
   "metadata": {},
   "outputs": [],
   "source": [
    "def evaluate(model, test_features, test_labels):\n",
    "    predictions = model.predict(test_features)\n",
    "    errors = abs(predictions - test_labels)\n",
    "    mae = 100 * np.mean(errors)\n",
    "    print('Model Performance')\n",
    "    print('Mean Absolute Error: {:0.4f}'.format(np.mean(errors)))\n",
    "    return mae"
   ]
  },
  {
   "cell_type": "code",
   "execution_count": 57,
   "metadata": {},
   "outputs": [],
   "source": [
    "X_train_pre, X_test, y_train_pre, y_test = train_test_split(\n",
    "    X, y, test_size=0.3, random_state=42)"
   ]
  },
  {
   "cell_type": "code",
   "execution_count": 58,
   "metadata": {},
   "outputs": [],
   "source": [
    "X_train, X_dev, y_train, y_dev = train_test_split(\n",
    "    X_train_pre, y_train_pre, test_size=0.2, random_state=42)"
   ]
  },
  {
   "cell_type": "code",
   "execution_count": 59,
   "metadata": {},
   "outputs": [
    {
     "name": "stderr",
     "output_type": "stream",
     "text": [
      "C:\\Users\\dalit\\anaconda3\\lib\\site-packages\\ipykernel_launcher.py:2: DataConversionWarning: A column-vector y was passed when a 1d array was expected. Please change the shape of y to (n_samples,), for example using ravel().\n",
      "  \n"
     ]
    },
    {
     "name": "stdout",
     "output_type": "stream",
     "text": [
      "Model Performance\n",
      "Mean Absolute Error: 0.0171\n"
     ]
    }
   ],
   "source": [
    "base_model = RandomForestRegressor(n_estimators = 1000, random_state = 4)\n",
    "base_model.fit(X_train, y_train)\n",
    "base_accuracy = evaluate(base_model, X_dev, y_dev.values.ravel())"
   ]
  },
  {
   "cell_type": "code",
   "execution_count": 65,
   "metadata": {},
   "outputs": [],
   "source": [
    "# Create the parameter grid \n",
    "param_grid = {\n",
    "    'bootstrap': [True],\n",
    "    'max_depth': [30,40,50],\n",
    "    'max_features': ['sqrt'],\n",
    "    'min_samples_leaf': [1, 2],\n",
    "    'min_samples_split': [1, 2],\n",
    "    'n_estimators': [1500,2000]\n",
    "    \n",
    "}\n",
    "\n",
    "# Create a based model\n",
    "rf = RandomForestRegressor(random_state = 4)\n",
    "# Instantiate the grid search model\n",
    "\n",
    "grid_search = GridSearchCV(estimator = rf, param_grid = param_grid, cv = 3, n_jobs = -1, verbose = 2)"
   ]
  },
  {
   "cell_type": "code",
   "execution_count": 66,
   "metadata": {},
   "outputs": [
    {
     "name": "stdout",
     "output_type": "stream",
     "text": [
      "Fitting 3 folds for each of 24 candidates, totalling 72 fits\n"
     ]
    },
    {
     "name": "stderr",
     "output_type": "stream",
     "text": [
      "C:\\Users\\dalit\\anaconda3\\lib\\site-packages\\sklearn\\model_selection\\_search.py:921: UserWarning: One or more of the test scores are non-finite: [       nan        nan 0.88076595 0.88084976        nan        nan\n",
      " 0.87969349 0.879715          nan        nan 0.88078398 0.88086433\n",
      "        nan        nan 0.87974595 0.87974971        nan        nan\n",
      " 0.88078324 0.8808638         nan        nan 0.87974595 0.87974971]\n",
      "  category=UserWarning\n",
      "C:\\Users\\dalit\\anaconda3\\lib\\site-packages\\sklearn\\model_selection\\_search.py:880: DataConversionWarning: A column-vector y was passed when a 1d array was expected. Please change the shape of y to (n_samples,), for example using ravel().\n",
      "  self.best_estimator_.fit(X, y, **fit_params)\n"
     ]
    },
    {
     "data": {
      "text/plain": [
       "GridSearchCV(cv=3, estimator=RandomForestRegressor(random_state=4), n_jobs=-1,\n",
       "             param_grid={'bootstrap': [True], 'max_depth': [30, 40, 50],\n",
       "                         'max_features': ['sqrt'], 'min_samples_leaf': [1, 2],\n",
       "                         'min_samples_split': [1, 2],\n",
       "                         'n_estimators': [1500, 2000]},\n",
       "             verbose=2)"
      ]
     },
     "execution_count": 66,
     "metadata": {},
     "output_type": "execute_result"
    }
   ],
   "source": [
    "# Fit the grid search to the data\n",
    "grid_search.fit(X_train, y_train)\n"
   ]
  },
  {
   "cell_type": "code",
   "execution_count": 67,
   "metadata": {},
   "outputs": [
    {
     "data": {
      "text/plain": [
       "{'bootstrap': True,\n",
       " 'max_depth': 40,\n",
       " 'max_features': 'sqrt',\n",
       " 'min_samples_leaf': 1,\n",
       " 'min_samples_split': 2,\n",
       " 'n_estimators': 2000}"
      ]
     },
     "execution_count": 67,
     "metadata": {},
     "output_type": "execute_result"
    }
   ],
   "source": [
    "grid_search.best_params_"
   ]
  },
  {
   "cell_type": "code",
   "execution_count": 68,
   "metadata": {},
   "outputs": [
    {
     "name": "stdout",
     "output_type": "stream",
     "text": [
      "Model Performance\n",
      "Mean Absolute Error: 0.0215\n"
     ]
    }
   ],
   "source": [
    "best_grid = grid_search.best_estimator_\n",
    "grid_accuracy = evaluate(best_grid, X_dev, y_dev.values.ravel())"
   ]
  },
  {
   "cell_type": "code",
   "execution_count": 69,
   "metadata": {},
   "outputs": [
    {
     "name": "stdout",
     "output_type": "stream",
     "text": [
      "Improvement of -25.47%.\n"
     ]
    }
   ],
   "source": [
    "print('Improvement of {:0.2f}%.'.format( 100 * (base_accuracy - grid_accuracy) / base_accuracy))"
   ]
  },
  {
   "cell_type": "code",
   "execution_count": 154,
   "metadata": {},
   "outputs": [
    {
     "name": "stderr",
     "output_type": "stream",
     "text": [
      "C:\\Users\\dalit\\anaconda3\\lib\\site-packages\\ipykernel_launcher.py:7: DataConversionWarning: A column-vector y was passed when a 1d array was expected. Please change the shape of y to (n_samples,), for example using ravel().\n",
      "  import sys\n"
     ]
    },
    {
     "name": "stdout",
     "output_type": "stream",
     "text": [
      "Model Performance\n",
      "Mean Absolute Error: 0.0216\n"
     ]
    }
   ],
   "source": [
    "base_model = RandomForestRegressor(n_estimators = 1000, random_state = 4,bootstrap= True,\n",
    "         max_depth=30,\n",
    "         max_features='sqrt',\n",
    "         min_samples_leaf= 2,\n",
    "         min_samples_split= 2,\n",
    "        )\n",
    "base_model.fit(X_train, y_train)\n",
    "base_accuracy = evaluate(base_model, X_dev, y_dev.values.ravel())"
   ]
  },
  {
   "cell_type": "code",
   "execution_count": 70,
   "metadata": {},
   "outputs": [
    {
     "name": "stdout",
     "output_type": "stream",
     "text": [
      "Model Performance\n",
      "Mean Absolute Error: 0.0216\n"
     ]
    }
   ],
   "source": [
    "best_grid = grid_search.best_estimator_\n",
    "grid_accuracy = evaluate(best_grid, X_test, y_test.values.ravel())"
   ]
  }
 ],
 "metadata": {
  "kernelspec": {
   "display_name": "Python 3",
   "language": "python",
   "name": "python3"
  },
  "language_info": {
   "codemirror_mode": {
    "name": "ipython",
    "version": 3
   },
   "file_extension": ".py",
   "mimetype": "text/x-python",
   "name": "python",
   "nbconvert_exporter": "python",
   "pygments_lexer": "ipython3",
   "version": "3.7.9"
  }
 },
 "nbformat": 4,
 "nbformat_minor": 4
}
